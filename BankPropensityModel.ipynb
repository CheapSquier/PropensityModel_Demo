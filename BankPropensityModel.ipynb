{
 "cells": [
  {
   "cell_type": "markdown",
   "id": "fifteen-observer",
   "metadata": {},
   "source": [
    "# Propensity Model - Bank Marketing Data # \n",
    "[Original dataset from UCI Archive](https://archive.ics.uci.edu/ml/datasets/Bank+Marketing)\n",
    "\n",
    "This version of the notebook goes through the basic steps of data clean-up and EDA. Predictive Power Score (PPS) is used for feature selection. PPS basically does a 1 variable Decision Tree model for each feature in the dataset, automatically making that a classifier or regressor depending on variable type. For classification it is based on the F1 score, for regression it is based on Mean Absolute Error (MAE)\n",
    "\n",
    "If the variable is categorical, the PPS is determined by:\n",
    "`PPS = (F1_model - F1_naive)/(1 - F1_naive)`\n",
    "where _F1_naive_ is the \"F1 score for a model that always predicts the most common class of the target column (_F1_most_common_) and a model that predicts random values (_F1_random_)\". So if 90% of a dataset results in a \"True\" classification, F1_most_common will probably be used. If the dataset is more balanced and only 51% is a \"True\" classification, then the _F1_random_ might be chosen (unless we have a very large dataset such that we can assume \"random\" will result in 50% accuracy). This all assumes a binary classification. Multiple classes would extend things a bit.\n",
    "\n",
    "If the variable is continuous, the PPS is determined by:\n",
    "`PPS = (MAE_model / MAE_naive)`\n",
    "where _MAE_naive_ \"always predicts the median of the target column.\"\n",
    "\n",
    "This dataset is quite imbalanced, with just over 11% of the target column = \"yes\" vs \"no\". Such a large imbalance can lead to issues in model training and mislead model evaluation. The accuracy can look quite good until you realize that simply assuming \"no\" 100% of the time will result in > 90% accuracy. This notebook tries to compensate for that by using shuffled K-Fold validation instead of stratified. The SVC model is also directed to use a balanced training. But in the end, this doesn't seem to be the most direct method. Each operation (splits, model training, evaluation) often require dealing with the imbalance differently. The more traditional method of dealing with imbalance is either undersampling the majority classification or using oversampling on the minority classification. Scikit-Learn doesn't support this. In the next version of this notebook, we'll incorporate the imbalanced-learn library that will give us that capability.\n",
    "\n",
    "Three models are trained and evaluated: KNN, Support Vector Classifier, and RandomForest. There is currently no tuning of hyperparameters. Of the 3, Random Forest shows the best model evaluation numbers, but there's concern that the model may be overtrained. The number of splits in the tree were limited to help with that, but without better control of the train/test split process, it's hard to trust the evaluation numbers completely."
   ]
  },
  {
   "cell_type": "code",
   "execution_count": 409,
   "id": "moving-event",
   "metadata": {},
   "outputs": [
    {
     "name": "stdout",
     "output_type": "stream",
     "text": [
      "Python version: 3.7.1\n",
      "NumPy version:  1.19.2\n",
      "Pandas version:  1.2.1\n",
      "SK Learn version:  0.22.1\n",
      "Yellowbrick version:  1.1\n"
     ]
    }
   ],
   "source": [
    "import sys\n",
    "import time\n",
    "import numpy as np\n",
    "import pandas as pd\n",
    "import sklearn.base\n",
    "import ppscore as pps\n",
    "import seaborn as sns\n",
    "import yellowbrick.base\n",
    "import matplotlib\n",
    "\n",
    "from yellowbrick.target.feature_correlation import feature_correlation\n",
    "from matplotlib import pyplot as plt\n",
    "from sklearn.preprocessing import MinMaxScaler\n",
    "from sklearn.preprocessing import OneHotEncoder\n",
    "from sklearn.preprocessing import LabelBinarizer\n",
    "from sklearn.pipeline import Pipeline\n",
    "from sklearn.compose import ColumnTransformer\n",
    "from sklearn.ensemble import RandomForestClassifier\n",
    "from sklearn.ensemble import GradientBoostingClassifier\n",
    "from sklearn.svm import LinearSVC\n",
    "from sklearn.neighbors import KNeighborsClassifier\n",
    "from sklearn.model_selection import train_test_split\n",
    "from sklearn.model_selection import GridSearchCV\n",
    "from sklearn.model_selection import cross_val_score\n",
    "from sklearn.model_selection import cross_validate\n",
    "from sklearn.metrics import confusion_matrix\n",
    "from sklearn.metrics import plot_confusion_matrix\n",
    "from sklearn.metrics import accuracy_score\n",
    "from sklearn.metrics import precision_recall_curve\n",
    "\n",
    "# https://github.com/scikit-learn-contrib/imbalanced-learn\n",
    "\n",
    "print(\"Python version: {}.{}.{}\".format(sys.version_info[0], sys.version_info[1], sys.version_info[2]))\n",
    "pythonVersion = str(sys.version_info[0])+\".\"+str(sys.version_info[1])\n",
    "print(\"NumPy version: \",np.__version__)\n",
    "print(\"Pandas version: \",pd.__version__)\n",
    "print(\"SK Learn version: \",sklearn.__version__)\n",
    "print(\"Yellowbrick version: \",yellowbrick.__version__)\n",
    "\n",
    "global gl_rev_per_encounter\n",
    "global gl_cost_per_encounter\n",
    "gl_rev_per_encounter = 80\n",
    "gl_cost_per_encounter = 30"
   ]
  },
  {
   "cell_type": "code",
   "execution_count": 410,
   "id": "threatened-plenty",
   "metadata": {},
   "outputs": [],
   "source": [
    "df = pd.read_csv('./bank-additional/bank-additional/bank-additional-full.csv', sep=';', header=0)"
   ]
  },
  {
   "cell_type": "markdown",
   "id": "suitable-roots",
   "metadata": {},
   "source": [
    "## Let's look at the data "
   ]
  },
  {
   "cell_type": "code",
   "execution_count": 411,
   "id": "universal-check",
   "metadata": {},
   "outputs": [
    {
     "data": {
      "text/html": [
       "<div>\n",
       "<style scoped>\n",
       "    .dataframe tbody tr th:only-of-type {\n",
       "        vertical-align: middle;\n",
       "    }\n",
       "\n",
       "    .dataframe tbody tr th {\n",
       "        vertical-align: top;\n",
       "    }\n",
       "\n",
       "    .dataframe thead th {\n",
       "        text-align: right;\n",
       "    }\n",
       "</style>\n",
       "<table border=\"1\" class=\"dataframe\">\n",
       "  <thead>\n",
       "    <tr style=\"text-align: right;\">\n",
       "      <th></th>\n",
       "      <th>age</th>\n",
       "      <th>job</th>\n",
       "      <th>marital</th>\n",
       "      <th>education</th>\n",
       "      <th>default</th>\n",
       "      <th>housing</th>\n",
       "      <th>loan</th>\n",
       "      <th>contact</th>\n",
       "      <th>month</th>\n",
       "      <th>day_of_week</th>\n",
       "      <th>...</th>\n",
       "      <th>campaign</th>\n",
       "      <th>pdays</th>\n",
       "      <th>previous</th>\n",
       "      <th>poutcome</th>\n",
       "      <th>emp.var.rate</th>\n",
       "      <th>cons.price.idx</th>\n",
       "      <th>cons.conf.idx</th>\n",
       "      <th>euribor3m</th>\n",
       "      <th>nr.employed</th>\n",
       "      <th>y</th>\n",
       "    </tr>\n",
       "  </thead>\n",
       "  <tbody>\n",
       "    <tr>\n",
       "      <th>0</th>\n",
       "      <td>56</td>\n",
       "      <td>housemaid</td>\n",
       "      <td>married</td>\n",
       "      <td>basic.4y</td>\n",
       "      <td>no</td>\n",
       "      <td>no</td>\n",
       "      <td>no</td>\n",
       "      <td>telephone</td>\n",
       "      <td>may</td>\n",
       "      <td>mon</td>\n",
       "      <td>...</td>\n",
       "      <td>1</td>\n",
       "      <td>999</td>\n",
       "      <td>0</td>\n",
       "      <td>nonexistent</td>\n",
       "      <td>1.1</td>\n",
       "      <td>93.994</td>\n",
       "      <td>-36.4</td>\n",
       "      <td>4.857</td>\n",
       "      <td>5191.0</td>\n",
       "      <td>no</td>\n",
       "    </tr>\n",
       "    <tr>\n",
       "      <th>1</th>\n",
       "      <td>57</td>\n",
       "      <td>services</td>\n",
       "      <td>married</td>\n",
       "      <td>high.school</td>\n",
       "      <td>unknown</td>\n",
       "      <td>no</td>\n",
       "      <td>no</td>\n",
       "      <td>telephone</td>\n",
       "      <td>may</td>\n",
       "      <td>mon</td>\n",
       "      <td>...</td>\n",
       "      <td>1</td>\n",
       "      <td>999</td>\n",
       "      <td>0</td>\n",
       "      <td>nonexistent</td>\n",
       "      <td>1.1</td>\n",
       "      <td>93.994</td>\n",
       "      <td>-36.4</td>\n",
       "      <td>4.857</td>\n",
       "      <td>5191.0</td>\n",
       "      <td>no</td>\n",
       "    </tr>\n",
       "    <tr>\n",
       "      <th>2</th>\n",
       "      <td>37</td>\n",
       "      <td>services</td>\n",
       "      <td>married</td>\n",
       "      <td>high.school</td>\n",
       "      <td>no</td>\n",
       "      <td>yes</td>\n",
       "      <td>no</td>\n",
       "      <td>telephone</td>\n",
       "      <td>may</td>\n",
       "      <td>mon</td>\n",
       "      <td>...</td>\n",
       "      <td>1</td>\n",
       "      <td>999</td>\n",
       "      <td>0</td>\n",
       "      <td>nonexistent</td>\n",
       "      <td>1.1</td>\n",
       "      <td>93.994</td>\n",
       "      <td>-36.4</td>\n",
       "      <td>4.857</td>\n",
       "      <td>5191.0</td>\n",
       "      <td>no</td>\n",
       "    </tr>\n",
       "    <tr>\n",
       "      <th>3</th>\n",
       "      <td>40</td>\n",
       "      <td>admin.</td>\n",
       "      <td>married</td>\n",
       "      <td>basic.6y</td>\n",
       "      <td>no</td>\n",
       "      <td>no</td>\n",
       "      <td>no</td>\n",
       "      <td>telephone</td>\n",
       "      <td>may</td>\n",
       "      <td>mon</td>\n",
       "      <td>...</td>\n",
       "      <td>1</td>\n",
       "      <td>999</td>\n",
       "      <td>0</td>\n",
       "      <td>nonexistent</td>\n",
       "      <td>1.1</td>\n",
       "      <td>93.994</td>\n",
       "      <td>-36.4</td>\n",
       "      <td>4.857</td>\n",
       "      <td>5191.0</td>\n",
       "      <td>no</td>\n",
       "    </tr>\n",
       "    <tr>\n",
       "      <th>4</th>\n",
       "      <td>56</td>\n",
       "      <td>services</td>\n",
       "      <td>married</td>\n",
       "      <td>high.school</td>\n",
       "      <td>no</td>\n",
       "      <td>no</td>\n",
       "      <td>yes</td>\n",
       "      <td>telephone</td>\n",
       "      <td>may</td>\n",
       "      <td>mon</td>\n",
       "      <td>...</td>\n",
       "      <td>1</td>\n",
       "      <td>999</td>\n",
       "      <td>0</td>\n",
       "      <td>nonexistent</td>\n",
       "      <td>1.1</td>\n",
       "      <td>93.994</td>\n",
       "      <td>-36.4</td>\n",
       "      <td>4.857</td>\n",
       "      <td>5191.0</td>\n",
       "      <td>no</td>\n",
       "    </tr>\n",
       "  </tbody>\n",
       "</table>\n",
       "<p>5 rows × 21 columns</p>\n",
       "</div>"
      ],
      "text/plain": [
       "   age        job  marital    education  default housing loan    contact  \\\n",
       "0   56  housemaid  married     basic.4y       no      no   no  telephone   \n",
       "1   57   services  married  high.school  unknown      no   no  telephone   \n",
       "2   37   services  married  high.school       no     yes   no  telephone   \n",
       "3   40     admin.  married     basic.6y       no      no   no  telephone   \n",
       "4   56   services  married  high.school       no      no  yes  telephone   \n",
       "\n",
       "  month day_of_week  ...  campaign  pdays  previous     poutcome emp.var.rate  \\\n",
       "0   may         mon  ...         1    999         0  nonexistent          1.1   \n",
       "1   may         mon  ...         1    999         0  nonexistent          1.1   \n",
       "2   may         mon  ...         1    999         0  nonexistent          1.1   \n",
       "3   may         mon  ...         1    999         0  nonexistent          1.1   \n",
       "4   may         mon  ...         1    999         0  nonexistent          1.1   \n",
       "\n",
       "   cons.price.idx  cons.conf.idx  euribor3m  nr.employed   y  \n",
       "0          93.994          -36.4      4.857       5191.0  no  \n",
       "1          93.994          -36.4      4.857       5191.0  no  \n",
       "2          93.994          -36.4      4.857       5191.0  no  \n",
       "3          93.994          -36.4      4.857       5191.0  no  \n",
       "4          93.994          -36.4      4.857       5191.0  no  \n",
       "\n",
       "[5 rows x 21 columns]"
      ]
     },
     "execution_count": 411,
     "metadata": {},
     "output_type": "execute_result"
    }
   ],
   "source": [
    "df.head()"
   ]
  },
  {
   "cell_type": "code",
   "execution_count": 412,
   "id": "pointed-springer",
   "metadata": {},
   "outputs": [
    {
     "name": "stdout",
     "output_type": "stream",
     "text": [
      "<class 'pandas.core.frame.DataFrame'>\n",
      "RangeIndex: 41188 entries, 0 to 41187\n",
      "Data columns (total 21 columns):\n",
      " #   Column          Non-Null Count  Dtype  \n",
      "---  ------          --------------  -----  \n",
      " 0   age             41188 non-null  int64  \n",
      " 1   job             41188 non-null  object \n",
      " 2   marital         41188 non-null  object \n",
      " 3   education       41188 non-null  object \n",
      " 4   default         41188 non-null  object \n",
      " 5   housing         41188 non-null  object \n",
      " 6   loan            41188 non-null  object \n",
      " 7   contact         41188 non-null  object \n",
      " 8   month           41188 non-null  object \n",
      " 9   day_of_week     41188 non-null  object \n",
      " 10  duration        41188 non-null  int64  \n",
      " 11  campaign        41188 non-null  int64  \n",
      " 12  pdays           41188 non-null  int64  \n",
      " 13  previous        41188 non-null  int64  \n",
      " 14  poutcome        41188 non-null  object \n",
      " 15  emp.var.rate    41188 non-null  float64\n",
      " 16  cons.price.idx  41188 non-null  float64\n",
      " 17  cons.conf.idx   41188 non-null  float64\n",
      " 18  euribor3m       41188 non-null  float64\n",
      " 19  nr.employed     41188 non-null  float64\n",
      " 20  y               41188 non-null  object \n",
      "dtypes: float64(5), int64(5), object(11)\n",
      "memory usage: 6.6+ MB\n"
     ]
    }
   ],
   "source": [
    "df.info()"
   ]
  },
  {
   "cell_type": "markdown",
   "id": "civil-doctor",
   "metadata": {},
   "source": [
    "### Balanced data sample?"
   ]
  },
  {
   "cell_type": "code",
   "execution_count": 413,
   "id": "noted-round",
   "metadata": {},
   "outputs": [
    {
     "data": {
      "text/plain": [
       "no     36548\n",
       "yes     4640\n",
       "Name: y, dtype: int64"
      ]
     },
     "execution_count": 413,
     "metadata": {},
     "output_type": "execute_result"
    }
   ],
   "source": [
    "df['y'].value_counts()"
   ]
  },
  {
   "cell_type": "markdown",
   "id": "exposed-yesterday",
   "metadata": {},
   "source": [
    "No, not very balanced. Might need to balance that when fitting the model"
   ]
  },
  {
   "cell_type": "markdown",
   "id": "crude-storage",
   "metadata": {},
   "source": [
    "### Let's check for duplicates: \n",
    "`dataframe.duplicated(keep=False)` will return a boolean Series of True = Duplicate for all rows that are duplicates (all copies). If `keep = 'first'` or `keep = 'last'`, only the the first or last of each group of duplicates will be flagged. `.value_counts` on the resulting Series will tell us how many duplicates were found (the True values). Remember that with keep false we're counting all duplicate instances."
   ]
  },
  {
   "cell_type": "code",
   "execution_count": 414,
   "id": "durable-gather",
   "metadata": {},
   "outputs": [
    {
     "data": {
      "text/plain": [
       "False    41164\n",
       "True        24\n",
       "dtype: int64"
      ]
     },
     "execution_count": 414,
     "metadata": {},
     "output_type": "execute_result"
    }
   ],
   "source": [
    "sdups = df.duplicated(keep=False)\n",
    "sdups.value_counts()"
   ]
  },
  {
   "cell_type": "markdown",
   "id": "fitted-paradise",
   "metadata": {},
   "source": [
    "Now, it would be good to see what the dups look like before we drop them. With `sdups` we have a simple mask that can be used as an index mask on the main dataframe"
   ]
  },
  {
   "cell_type": "code",
   "execution_count": 415,
   "id": "frozen-prisoner",
   "metadata": {},
   "outputs": [
    {
     "data": {
      "text/html": [
       "<div>\n",
       "<style scoped>\n",
       "    .dataframe tbody tr th:only-of-type {\n",
       "        vertical-align: middle;\n",
       "    }\n",
       "\n",
       "    .dataframe tbody tr th {\n",
       "        vertical-align: top;\n",
       "    }\n",
       "\n",
       "    .dataframe thead th {\n",
       "        text-align: right;\n",
       "    }\n",
       "</style>\n",
       "<table border=\"1\" class=\"dataframe\">\n",
       "  <thead>\n",
       "    <tr style=\"text-align: right;\">\n",
       "      <th></th>\n",
       "      <th>age</th>\n",
       "      <th>job</th>\n",
       "      <th>marital</th>\n",
       "      <th>education</th>\n",
       "      <th>default</th>\n",
       "      <th>housing</th>\n",
       "      <th>loan</th>\n",
       "      <th>contact</th>\n",
       "      <th>month</th>\n",
       "      <th>day_of_week</th>\n",
       "      <th>...</th>\n",
       "      <th>campaign</th>\n",
       "      <th>pdays</th>\n",
       "      <th>previous</th>\n",
       "      <th>poutcome</th>\n",
       "      <th>emp.var.rate</th>\n",
       "      <th>cons.price.idx</th>\n",
       "      <th>cons.conf.idx</th>\n",
       "      <th>euribor3m</th>\n",
       "      <th>nr.employed</th>\n",
       "      <th>y</th>\n",
       "    </tr>\n",
       "  </thead>\n",
       "  <tbody>\n",
       "    <tr>\n",
       "      <th>1265</th>\n",
       "      <td>39</td>\n",
       "      <td>blue-collar</td>\n",
       "      <td>married</td>\n",
       "      <td>basic.6y</td>\n",
       "      <td>no</td>\n",
       "      <td>no</td>\n",
       "      <td>no</td>\n",
       "      <td>telephone</td>\n",
       "      <td>may</td>\n",
       "      <td>thu</td>\n",
       "      <td>...</td>\n",
       "      <td>1</td>\n",
       "      <td>999</td>\n",
       "      <td>0</td>\n",
       "      <td>nonexistent</td>\n",
       "      <td>1.1</td>\n",
       "      <td>93.994</td>\n",
       "      <td>-36.4</td>\n",
       "      <td>4.855</td>\n",
       "      <td>5191.0</td>\n",
       "      <td>no</td>\n",
       "    </tr>\n",
       "    <tr>\n",
       "      <th>1266</th>\n",
       "      <td>39</td>\n",
       "      <td>blue-collar</td>\n",
       "      <td>married</td>\n",
       "      <td>basic.6y</td>\n",
       "      <td>no</td>\n",
       "      <td>no</td>\n",
       "      <td>no</td>\n",
       "      <td>telephone</td>\n",
       "      <td>may</td>\n",
       "      <td>thu</td>\n",
       "      <td>...</td>\n",
       "      <td>1</td>\n",
       "      <td>999</td>\n",
       "      <td>0</td>\n",
       "      <td>nonexistent</td>\n",
       "      <td>1.1</td>\n",
       "      <td>93.994</td>\n",
       "      <td>-36.4</td>\n",
       "      <td>4.855</td>\n",
       "      <td>5191.0</td>\n",
       "      <td>no</td>\n",
       "    </tr>\n",
       "    <tr>\n",
       "      <th>12260</th>\n",
       "      <td>36</td>\n",
       "      <td>retired</td>\n",
       "      <td>married</td>\n",
       "      <td>unknown</td>\n",
       "      <td>no</td>\n",
       "      <td>no</td>\n",
       "      <td>no</td>\n",
       "      <td>telephone</td>\n",
       "      <td>jul</td>\n",
       "      <td>thu</td>\n",
       "      <td>...</td>\n",
       "      <td>1</td>\n",
       "      <td>999</td>\n",
       "      <td>0</td>\n",
       "      <td>nonexistent</td>\n",
       "      <td>1.4</td>\n",
       "      <td>93.918</td>\n",
       "      <td>-42.7</td>\n",
       "      <td>4.966</td>\n",
       "      <td>5228.1</td>\n",
       "      <td>no</td>\n",
       "    </tr>\n",
       "    <tr>\n",
       "      <th>12261</th>\n",
       "      <td>36</td>\n",
       "      <td>retired</td>\n",
       "      <td>married</td>\n",
       "      <td>unknown</td>\n",
       "      <td>no</td>\n",
       "      <td>no</td>\n",
       "      <td>no</td>\n",
       "      <td>telephone</td>\n",
       "      <td>jul</td>\n",
       "      <td>thu</td>\n",
       "      <td>...</td>\n",
       "      <td>1</td>\n",
       "      <td>999</td>\n",
       "      <td>0</td>\n",
       "      <td>nonexistent</td>\n",
       "      <td>1.4</td>\n",
       "      <td>93.918</td>\n",
       "      <td>-42.7</td>\n",
       "      <td>4.966</td>\n",
       "      <td>5228.1</td>\n",
       "      <td>no</td>\n",
       "    </tr>\n",
       "    <tr>\n",
       "      <th>14155</th>\n",
       "      <td>27</td>\n",
       "      <td>technician</td>\n",
       "      <td>single</td>\n",
       "      <td>professional.course</td>\n",
       "      <td>no</td>\n",
       "      <td>no</td>\n",
       "      <td>no</td>\n",
       "      <td>cellular</td>\n",
       "      <td>jul</td>\n",
       "      <td>mon</td>\n",
       "      <td>...</td>\n",
       "      <td>2</td>\n",
       "      <td>999</td>\n",
       "      <td>0</td>\n",
       "      <td>nonexistent</td>\n",
       "      <td>1.4</td>\n",
       "      <td>93.918</td>\n",
       "      <td>-42.7</td>\n",
       "      <td>4.962</td>\n",
       "      <td>5228.1</td>\n",
       "      <td>no</td>\n",
       "    </tr>\n",
       "    <tr>\n",
       "      <th>14234</th>\n",
       "      <td>27</td>\n",
       "      <td>technician</td>\n",
       "      <td>single</td>\n",
       "      <td>professional.course</td>\n",
       "      <td>no</td>\n",
       "      <td>no</td>\n",
       "      <td>no</td>\n",
       "      <td>cellular</td>\n",
       "      <td>jul</td>\n",
       "      <td>mon</td>\n",
       "      <td>...</td>\n",
       "      <td>2</td>\n",
       "      <td>999</td>\n",
       "      <td>0</td>\n",
       "      <td>nonexistent</td>\n",
       "      <td>1.4</td>\n",
       "      <td>93.918</td>\n",
       "      <td>-42.7</td>\n",
       "      <td>4.962</td>\n",
       "      <td>5228.1</td>\n",
       "      <td>no</td>\n",
       "    </tr>\n",
       "    <tr>\n",
       "      <th>16819</th>\n",
       "      <td>47</td>\n",
       "      <td>technician</td>\n",
       "      <td>divorced</td>\n",
       "      <td>high.school</td>\n",
       "      <td>no</td>\n",
       "      <td>yes</td>\n",
       "      <td>no</td>\n",
       "      <td>cellular</td>\n",
       "      <td>jul</td>\n",
       "      <td>thu</td>\n",
       "      <td>...</td>\n",
       "      <td>3</td>\n",
       "      <td>999</td>\n",
       "      <td>0</td>\n",
       "      <td>nonexistent</td>\n",
       "      <td>1.4</td>\n",
       "      <td>93.918</td>\n",
       "      <td>-42.7</td>\n",
       "      <td>4.962</td>\n",
       "      <td>5228.1</td>\n",
       "      <td>no</td>\n",
       "    </tr>\n",
       "    <tr>\n",
       "      <th>16956</th>\n",
       "      <td>47</td>\n",
       "      <td>technician</td>\n",
       "      <td>divorced</td>\n",
       "      <td>high.school</td>\n",
       "      <td>no</td>\n",
       "      <td>yes</td>\n",
       "      <td>no</td>\n",
       "      <td>cellular</td>\n",
       "      <td>jul</td>\n",
       "      <td>thu</td>\n",
       "      <td>...</td>\n",
       "      <td>3</td>\n",
       "      <td>999</td>\n",
       "      <td>0</td>\n",
       "      <td>nonexistent</td>\n",
       "      <td>1.4</td>\n",
       "      <td>93.918</td>\n",
       "      <td>-42.7</td>\n",
       "      <td>4.962</td>\n",
       "      <td>5228.1</td>\n",
       "      <td>no</td>\n",
       "    </tr>\n",
       "    <tr>\n",
       "      <th>18464</th>\n",
       "      <td>32</td>\n",
       "      <td>technician</td>\n",
       "      <td>single</td>\n",
       "      <td>professional.course</td>\n",
       "      <td>no</td>\n",
       "      <td>yes</td>\n",
       "      <td>no</td>\n",
       "      <td>cellular</td>\n",
       "      <td>jul</td>\n",
       "      <td>thu</td>\n",
       "      <td>...</td>\n",
       "      <td>1</td>\n",
       "      <td>999</td>\n",
       "      <td>0</td>\n",
       "      <td>nonexistent</td>\n",
       "      <td>1.4</td>\n",
       "      <td>93.918</td>\n",
       "      <td>-42.7</td>\n",
       "      <td>4.968</td>\n",
       "      <td>5228.1</td>\n",
       "      <td>no</td>\n",
       "    </tr>\n",
       "    <tr>\n",
       "      <th>18465</th>\n",
       "      <td>32</td>\n",
       "      <td>technician</td>\n",
       "      <td>single</td>\n",
       "      <td>professional.course</td>\n",
       "      <td>no</td>\n",
       "      <td>yes</td>\n",
       "      <td>no</td>\n",
       "      <td>cellular</td>\n",
       "      <td>jul</td>\n",
       "      <td>thu</td>\n",
       "      <td>...</td>\n",
       "      <td>1</td>\n",
       "      <td>999</td>\n",
       "      <td>0</td>\n",
       "      <td>nonexistent</td>\n",
       "      <td>1.4</td>\n",
       "      <td>93.918</td>\n",
       "      <td>-42.7</td>\n",
       "      <td>4.968</td>\n",
       "      <td>5228.1</td>\n",
       "      <td>no</td>\n",
       "    </tr>\n",
       "    <tr>\n",
       "      <th>20072</th>\n",
       "      <td>55</td>\n",
       "      <td>services</td>\n",
       "      <td>married</td>\n",
       "      <td>high.school</td>\n",
       "      <td>unknown</td>\n",
       "      <td>no</td>\n",
       "      <td>no</td>\n",
       "      <td>cellular</td>\n",
       "      <td>aug</td>\n",
       "      <td>mon</td>\n",
       "      <td>...</td>\n",
       "      <td>1</td>\n",
       "      <td>999</td>\n",
       "      <td>0</td>\n",
       "      <td>nonexistent</td>\n",
       "      <td>1.4</td>\n",
       "      <td>93.444</td>\n",
       "      <td>-36.1</td>\n",
       "      <td>4.965</td>\n",
       "      <td>5228.1</td>\n",
       "      <td>no</td>\n",
       "    </tr>\n",
       "    <tr>\n",
       "      <th>20216</th>\n",
       "      <td>55</td>\n",
       "      <td>services</td>\n",
       "      <td>married</td>\n",
       "      <td>high.school</td>\n",
       "      <td>unknown</td>\n",
       "      <td>no</td>\n",
       "      <td>no</td>\n",
       "      <td>cellular</td>\n",
       "      <td>aug</td>\n",
       "      <td>mon</td>\n",
       "      <td>...</td>\n",
       "      <td>1</td>\n",
       "      <td>999</td>\n",
       "      <td>0</td>\n",
       "      <td>nonexistent</td>\n",
       "      <td>1.4</td>\n",
       "      <td>93.444</td>\n",
       "      <td>-36.1</td>\n",
       "      <td>4.965</td>\n",
       "      <td>5228.1</td>\n",
       "      <td>no</td>\n",
       "    </tr>\n",
       "    <tr>\n",
       "      <th>20531</th>\n",
       "      <td>41</td>\n",
       "      <td>technician</td>\n",
       "      <td>married</td>\n",
       "      <td>professional.course</td>\n",
       "      <td>no</td>\n",
       "      <td>yes</td>\n",
       "      <td>no</td>\n",
       "      <td>cellular</td>\n",
       "      <td>aug</td>\n",
       "      <td>tue</td>\n",
       "      <td>...</td>\n",
       "      <td>1</td>\n",
       "      <td>999</td>\n",
       "      <td>0</td>\n",
       "      <td>nonexistent</td>\n",
       "      <td>1.4</td>\n",
       "      <td>93.444</td>\n",
       "      <td>-36.1</td>\n",
       "      <td>4.966</td>\n",
       "      <td>5228.1</td>\n",
       "      <td>no</td>\n",
       "    </tr>\n",
       "    <tr>\n",
       "      <th>20534</th>\n",
       "      <td>41</td>\n",
       "      <td>technician</td>\n",
       "      <td>married</td>\n",
       "      <td>professional.course</td>\n",
       "      <td>no</td>\n",
       "      <td>yes</td>\n",
       "      <td>no</td>\n",
       "      <td>cellular</td>\n",
       "      <td>aug</td>\n",
       "      <td>tue</td>\n",
       "      <td>...</td>\n",
       "      <td>1</td>\n",
       "      <td>999</td>\n",
       "      <td>0</td>\n",
       "      <td>nonexistent</td>\n",
       "      <td>1.4</td>\n",
       "      <td>93.444</td>\n",
       "      <td>-36.1</td>\n",
       "      <td>4.966</td>\n",
       "      <td>5228.1</td>\n",
       "      <td>no</td>\n",
       "    </tr>\n",
       "    <tr>\n",
       "      <th>25183</th>\n",
       "      <td>39</td>\n",
       "      <td>admin.</td>\n",
       "      <td>married</td>\n",
       "      <td>university.degree</td>\n",
       "      <td>no</td>\n",
       "      <td>no</td>\n",
       "      <td>no</td>\n",
       "      <td>cellular</td>\n",
       "      <td>nov</td>\n",
       "      <td>tue</td>\n",
       "      <td>...</td>\n",
       "      <td>2</td>\n",
       "      <td>999</td>\n",
       "      <td>0</td>\n",
       "      <td>nonexistent</td>\n",
       "      <td>-0.1</td>\n",
       "      <td>93.200</td>\n",
       "      <td>-42.0</td>\n",
       "      <td>4.153</td>\n",
       "      <td>5195.8</td>\n",
       "      <td>no</td>\n",
       "    </tr>\n",
       "    <tr>\n",
       "      <th>25217</th>\n",
       "      <td>39</td>\n",
       "      <td>admin.</td>\n",
       "      <td>married</td>\n",
       "      <td>university.degree</td>\n",
       "      <td>no</td>\n",
       "      <td>no</td>\n",
       "      <td>no</td>\n",
       "      <td>cellular</td>\n",
       "      <td>nov</td>\n",
       "      <td>tue</td>\n",
       "      <td>...</td>\n",
       "      <td>2</td>\n",
       "      <td>999</td>\n",
       "      <td>0</td>\n",
       "      <td>nonexistent</td>\n",
       "      <td>-0.1</td>\n",
       "      <td>93.200</td>\n",
       "      <td>-42.0</td>\n",
       "      <td>4.153</td>\n",
       "      <td>5195.8</td>\n",
       "      <td>no</td>\n",
       "    </tr>\n",
       "    <tr>\n",
       "      <th>28476</th>\n",
       "      <td>24</td>\n",
       "      <td>services</td>\n",
       "      <td>single</td>\n",
       "      <td>high.school</td>\n",
       "      <td>no</td>\n",
       "      <td>yes</td>\n",
       "      <td>no</td>\n",
       "      <td>cellular</td>\n",
       "      <td>apr</td>\n",
       "      <td>tue</td>\n",
       "      <td>...</td>\n",
       "      <td>1</td>\n",
       "      <td>999</td>\n",
       "      <td>0</td>\n",
       "      <td>nonexistent</td>\n",
       "      <td>-1.8</td>\n",
       "      <td>93.075</td>\n",
       "      <td>-47.1</td>\n",
       "      <td>1.423</td>\n",
       "      <td>5099.1</td>\n",
       "      <td>no</td>\n",
       "    </tr>\n",
       "    <tr>\n",
       "      <th>28477</th>\n",
       "      <td>24</td>\n",
       "      <td>services</td>\n",
       "      <td>single</td>\n",
       "      <td>high.school</td>\n",
       "      <td>no</td>\n",
       "      <td>yes</td>\n",
       "      <td>no</td>\n",
       "      <td>cellular</td>\n",
       "      <td>apr</td>\n",
       "      <td>tue</td>\n",
       "      <td>...</td>\n",
       "      <td>1</td>\n",
       "      <td>999</td>\n",
       "      <td>0</td>\n",
       "      <td>nonexistent</td>\n",
       "      <td>-1.8</td>\n",
       "      <td>93.075</td>\n",
       "      <td>-47.1</td>\n",
       "      <td>1.423</td>\n",
       "      <td>5099.1</td>\n",
       "      <td>no</td>\n",
       "    </tr>\n",
       "    <tr>\n",
       "      <th>32505</th>\n",
       "      <td>35</td>\n",
       "      <td>admin.</td>\n",
       "      <td>married</td>\n",
       "      <td>university.degree</td>\n",
       "      <td>no</td>\n",
       "      <td>yes</td>\n",
       "      <td>no</td>\n",
       "      <td>cellular</td>\n",
       "      <td>may</td>\n",
       "      <td>fri</td>\n",
       "      <td>...</td>\n",
       "      <td>4</td>\n",
       "      <td>999</td>\n",
       "      <td>0</td>\n",
       "      <td>nonexistent</td>\n",
       "      <td>-1.8</td>\n",
       "      <td>92.893</td>\n",
       "      <td>-46.2</td>\n",
       "      <td>1.313</td>\n",
       "      <td>5099.1</td>\n",
       "      <td>no</td>\n",
       "    </tr>\n",
       "    <tr>\n",
       "      <th>32516</th>\n",
       "      <td>35</td>\n",
       "      <td>admin.</td>\n",
       "      <td>married</td>\n",
       "      <td>university.degree</td>\n",
       "      <td>no</td>\n",
       "      <td>yes</td>\n",
       "      <td>no</td>\n",
       "      <td>cellular</td>\n",
       "      <td>may</td>\n",
       "      <td>fri</td>\n",
       "      <td>...</td>\n",
       "      <td>4</td>\n",
       "      <td>999</td>\n",
       "      <td>0</td>\n",
       "      <td>nonexistent</td>\n",
       "      <td>-1.8</td>\n",
       "      <td>92.893</td>\n",
       "      <td>-46.2</td>\n",
       "      <td>1.313</td>\n",
       "      <td>5099.1</td>\n",
       "      <td>no</td>\n",
       "    </tr>\n",
       "    <tr>\n",
       "      <th>36950</th>\n",
       "      <td>45</td>\n",
       "      <td>admin.</td>\n",
       "      <td>married</td>\n",
       "      <td>university.degree</td>\n",
       "      <td>no</td>\n",
       "      <td>no</td>\n",
       "      <td>no</td>\n",
       "      <td>cellular</td>\n",
       "      <td>jul</td>\n",
       "      <td>thu</td>\n",
       "      <td>...</td>\n",
       "      <td>1</td>\n",
       "      <td>999</td>\n",
       "      <td>0</td>\n",
       "      <td>nonexistent</td>\n",
       "      <td>-2.9</td>\n",
       "      <td>92.469</td>\n",
       "      <td>-33.6</td>\n",
       "      <td>1.072</td>\n",
       "      <td>5076.2</td>\n",
       "      <td>yes</td>\n",
       "    </tr>\n",
       "    <tr>\n",
       "      <th>36951</th>\n",
       "      <td>45</td>\n",
       "      <td>admin.</td>\n",
       "      <td>married</td>\n",
       "      <td>university.degree</td>\n",
       "      <td>no</td>\n",
       "      <td>no</td>\n",
       "      <td>no</td>\n",
       "      <td>cellular</td>\n",
       "      <td>jul</td>\n",
       "      <td>thu</td>\n",
       "      <td>...</td>\n",
       "      <td>1</td>\n",
       "      <td>999</td>\n",
       "      <td>0</td>\n",
       "      <td>nonexistent</td>\n",
       "      <td>-2.9</td>\n",
       "      <td>92.469</td>\n",
       "      <td>-33.6</td>\n",
       "      <td>1.072</td>\n",
       "      <td>5076.2</td>\n",
       "      <td>yes</td>\n",
       "    </tr>\n",
       "    <tr>\n",
       "      <th>38255</th>\n",
       "      <td>71</td>\n",
       "      <td>retired</td>\n",
       "      <td>single</td>\n",
       "      <td>university.degree</td>\n",
       "      <td>no</td>\n",
       "      <td>no</td>\n",
       "      <td>no</td>\n",
       "      <td>telephone</td>\n",
       "      <td>oct</td>\n",
       "      <td>tue</td>\n",
       "      <td>...</td>\n",
       "      <td>1</td>\n",
       "      <td>999</td>\n",
       "      <td>0</td>\n",
       "      <td>nonexistent</td>\n",
       "      <td>-3.4</td>\n",
       "      <td>92.431</td>\n",
       "      <td>-26.9</td>\n",
       "      <td>0.742</td>\n",
       "      <td>5017.5</td>\n",
       "      <td>no</td>\n",
       "    </tr>\n",
       "    <tr>\n",
       "      <th>38281</th>\n",
       "      <td>71</td>\n",
       "      <td>retired</td>\n",
       "      <td>single</td>\n",
       "      <td>university.degree</td>\n",
       "      <td>no</td>\n",
       "      <td>no</td>\n",
       "      <td>no</td>\n",
       "      <td>telephone</td>\n",
       "      <td>oct</td>\n",
       "      <td>tue</td>\n",
       "      <td>...</td>\n",
       "      <td>1</td>\n",
       "      <td>999</td>\n",
       "      <td>0</td>\n",
       "      <td>nonexistent</td>\n",
       "      <td>-3.4</td>\n",
       "      <td>92.431</td>\n",
       "      <td>-26.9</td>\n",
       "      <td>0.742</td>\n",
       "      <td>5017.5</td>\n",
       "      <td>no</td>\n",
       "    </tr>\n",
       "  </tbody>\n",
       "</table>\n",
       "<p>24 rows × 21 columns</p>\n",
       "</div>"
      ],
      "text/plain": [
       "       age          job   marital            education  default housing loan  \\\n",
       "1265    39  blue-collar   married             basic.6y       no      no   no   \n",
       "1266    39  blue-collar   married             basic.6y       no      no   no   \n",
       "12260   36      retired   married              unknown       no      no   no   \n",
       "12261   36      retired   married              unknown       no      no   no   \n",
       "14155   27   technician    single  professional.course       no      no   no   \n",
       "14234   27   technician    single  professional.course       no      no   no   \n",
       "16819   47   technician  divorced          high.school       no     yes   no   \n",
       "16956   47   technician  divorced          high.school       no     yes   no   \n",
       "18464   32   technician    single  professional.course       no     yes   no   \n",
       "18465   32   technician    single  professional.course       no     yes   no   \n",
       "20072   55     services   married          high.school  unknown      no   no   \n",
       "20216   55     services   married          high.school  unknown      no   no   \n",
       "20531   41   technician   married  professional.course       no     yes   no   \n",
       "20534   41   technician   married  professional.course       no     yes   no   \n",
       "25183   39       admin.   married    university.degree       no      no   no   \n",
       "25217   39       admin.   married    university.degree       no      no   no   \n",
       "28476   24     services    single          high.school       no     yes   no   \n",
       "28477   24     services    single          high.school       no     yes   no   \n",
       "32505   35       admin.   married    university.degree       no     yes   no   \n",
       "32516   35       admin.   married    university.degree       no     yes   no   \n",
       "36950   45       admin.   married    university.degree       no      no   no   \n",
       "36951   45       admin.   married    university.degree       no      no   no   \n",
       "38255   71      retired    single    university.degree       no      no   no   \n",
       "38281   71      retired    single    university.degree       no      no   no   \n",
       "\n",
       "         contact month day_of_week  ...  campaign  pdays  previous  \\\n",
       "1265   telephone   may         thu  ...         1    999         0   \n",
       "1266   telephone   may         thu  ...         1    999         0   \n",
       "12260  telephone   jul         thu  ...         1    999         0   \n",
       "12261  telephone   jul         thu  ...         1    999         0   \n",
       "14155   cellular   jul         mon  ...         2    999         0   \n",
       "14234   cellular   jul         mon  ...         2    999         0   \n",
       "16819   cellular   jul         thu  ...         3    999         0   \n",
       "16956   cellular   jul         thu  ...         3    999         0   \n",
       "18464   cellular   jul         thu  ...         1    999         0   \n",
       "18465   cellular   jul         thu  ...         1    999         0   \n",
       "20072   cellular   aug         mon  ...         1    999         0   \n",
       "20216   cellular   aug         mon  ...         1    999         0   \n",
       "20531   cellular   aug         tue  ...         1    999         0   \n",
       "20534   cellular   aug         tue  ...         1    999         0   \n",
       "25183   cellular   nov         tue  ...         2    999         0   \n",
       "25217   cellular   nov         tue  ...         2    999         0   \n",
       "28476   cellular   apr         tue  ...         1    999         0   \n",
       "28477   cellular   apr         tue  ...         1    999         0   \n",
       "32505   cellular   may         fri  ...         4    999         0   \n",
       "32516   cellular   may         fri  ...         4    999         0   \n",
       "36950   cellular   jul         thu  ...         1    999         0   \n",
       "36951   cellular   jul         thu  ...         1    999         0   \n",
       "38255  telephone   oct         tue  ...         1    999         0   \n",
       "38281  telephone   oct         tue  ...         1    999         0   \n",
       "\n",
       "          poutcome emp.var.rate  cons.price.idx  cons.conf.idx  euribor3m  \\\n",
       "1265   nonexistent          1.1          93.994          -36.4      4.855   \n",
       "1266   nonexistent          1.1          93.994          -36.4      4.855   \n",
       "12260  nonexistent          1.4          93.918          -42.7      4.966   \n",
       "12261  nonexistent          1.4          93.918          -42.7      4.966   \n",
       "14155  nonexistent          1.4          93.918          -42.7      4.962   \n",
       "14234  nonexistent          1.4          93.918          -42.7      4.962   \n",
       "16819  nonexistent          1.4          93.918          -42.7      4.962   \n",
       "16956  nonexistent          1.4          93.918          -42.7      4.962   \n",
       "18464  nonexistent          1.4          93.918          -42.7      4.968   \n",
       "18465  nonexistent          1.4          93.918          -42.7      4.968   \n",
       "20072  nonexistent          1.4          93.444          -36.1      4.965   \n",
       "20216  nonexistent          1.4          93.444          -36.1      4.965   \n",
       "20531  nonexistent          1.4          93.444          -36.1      4.966   \n",
       "20534  nonexistent          1.4          93.444          -36.1      4.966   \n",
       "25183  nonexistent         -0.1          93.200          -42.0      4.153   \n",
       "25217  nonexistent         -0.1          93.200          -42.0      4.153   \n",
       "28476  nonexistent         -1.8          93.075          -47.1      1.423   \n",
       "28477  nonexistent         -1.8          93.075          -47.1      1.423   \n",
       "32505  nonexistent         -1.8          92.893          -46.2      1.313   \n",
       "32516  nonexistent         -1.8          92.893          -46.2      1.313   \n",
       "36950  nonexistent         -2.9          92.469          -33.6      1.072   \n",
       "36951  nonexistent         -2.9          92.469          -33.6      1.072   \n",
       "38255  nonexistent         -3.4          92.431          -26.9      0.742   \n",
       "38281  nonexistent         -3.4          92.431          -26.9      0.742   \n",
       "\n",
       "       nr.employed    y  \n",
       "1265        5191.0   no  \n",
       "1266        5191.0   no  \n",
       "12260       5228.1   no  \n",
       "12261       5228.1   no  \n",
       "14155       5228.1   no  \n",
       "14234       5228.1   no  \n",
       "16819       5228.1   no  \n",
       "16956       5228.1   no  \n",
       "18464       5228.1   no  \n",
       "18465       5228.1   no  \n",
       "20072       5228.1   no  \n",
       "20216       5228.1   no  \n",
       "20531       5228.1   no  \n",
       "20534       5228.1   no  \n",
       "25183       5195.8   no  \n",
       "25217       5195.8   no  \n",
       "28476       5099.1   no  \n",
       "28477       5099.1   no  \n",
       "32505       5099.1   no  \n",
       "32516       5099.1   no  \n",
       "36950       5076.2  yes  \n",
       "36951       5076.2  yes  \n",
       "38255       5017.5   no  \n",
       "38281       5017.5   no  \n",
       "\n",
       "[24 rows x 21 columns]"
      ]
     },
     "execution_count": 415,
     "metadata": {},
     "output_type": "execute_result"
    }
   ],
   "source": [
    "df[sdups]"
   ]
  },
  {
   "cell_type": "markdown",
   "id": "beautiful-vessel",
   "metadata": {},
   "source": [
    "Those look like pretty ordinary duplicates, so let's just pick 1 of each pair and delete it. Double check the new row count is correct and double check for dups."
   ]
  },
  {
   "cell_type": "code",
   "execution_count": 416,
   "id": "searching-bhutan",
   "metadata": {},
   "outputs": [
    {
     "data": {
      "text/plain": [
       "(41176, 21)"
      ]
     },
     "execution_count": 416,
     "metadata": {},
     "output_type": "execute_result"
    }
   ],
   "source": [
    "df.drop_duplicates(keep='first', inplace=True)\n",
    "df.shape"
   ]
  },
  {
   "cell_type": "code",
   "execution_count": 417,
   "id": "seven-drawing",
   "metadata": {},
   "outputs": [
    {
     "data": {
      "text/plain": [
       "False    41176\n",
       "dtype: int64"
      ]
     },
     "execution_count": 417,
     "metadata": {},
     "output_type": "execute_result"
    }
   ],
   "source": [
    "sdups = df.duplicated(keep=False)\n",
    "sdups.value_counts()"
   ]
  },
  {
   "cell_type": "markdown",
   "id": "seven-courtesy",
   "metadata": {},
   "source": [
    "### Check for na"
   ]
  },
  {
   "cell_type": "code",
   "execution_count": 418,
   "id": "virgin-covering",
   "metadata": {
    "collapsed": true,
    "jupyter": {
     "outputs_hidden": true
    }
   },
   "outputs": [
    {
     "name": "stdout",
     "output_type": "stream",
     "text": [
      "age:\n",
      "False    41176\n",
      "Name: age, dtype: int64\n",
      "job:\n",
      "False    41176\n",
      "Name: job, dtype: int64\n",
      "marital:\n",
      "False    41176\n",
      "Name: marital, dtype: int64\n",
      "education:\n",
      "False    41176\n",
      "Name: education, dtype: int64\n",
      "default:\n",
      "False    41176\n",
      "Name: default, dtype: int64\n",
      "housing:\n",
      "False    41176\n",
      "Name: housing, dtype: int64\n",
      "loan:\n",
      "False    41176\n",
      "Name: loan, dtype: int64\n",
      "contact:\n",
      "False    41176\n",
      "Name: contact, dtype: int64\n",
      "month:\n",
      "False    41176\n",
      "Name: month, dtype: int64\n",
      "day_of_week:\n",
      "False    41176\n",
      "Name: day_of_week, dtype: int64\n",
      "duration:\n",
      "False    41176\n",
      "Name: duration, dtype: int64\n",
      "campaign:\n",
      "False    41176\n",
      "Name: campaign, dtype: int64\n",
      "pdays:\n",
      "False    41176\n",
      "Name: pdays, dtype: int64\n",
      "previous:\n",
      "False    41176\n",
      "Name: previous, dtype: int64\n",
      "poutcome:\n",
      "False    41176\n",
      "Name: poutcome, dtype: int64\n",
      "emp.var.rate:\n",
      "False    41176\n",
      "Name: emp.var.rate, dtype: int64\n",
      "cons.price.idx:\n",
      "False    41176\n",
      "Name: cons.price.idx, dtype: int64\n",
      "cons.conf.idx:\n",
      "False    41176\n",
      "Name: cons.conf.idx, dtype: int64\n",
      "euribor3m:\n",
      "False    41176\n",
      "Name: euribor3m, dtype: int64\n",
      "nr.employed:\n",
      "False    41176\n",
      "Name: nr.employed, dtype: int64\n",
      "y:\n",
      "False    41176\n",
      "Name: y, dtype: int64\n"
     ]
    }
   ],
   "source": [
    "for col in df.columns:\n",
    "    print(col+\":\")\n",
    "    print(df[col].isna().value_counts())\n",
    "    if 'True' in df[col].isna().value_counts():\n",
    "        print(\"*************\")"
   ]
  },
  {
   "cell_type": "markdown",
   "id": "noble-angle",
   "metadata": {},
   "source": [
    "### Reset the index \n",
    "\n",
    "Now that we've dropped duplicate rows, let's reset the index. Some code in pandas and/or yellowbrick seems to rely on numerical values of the row key, so if one is missing, that causes problems."
   ]
  },
  {
   "cell_type": "code",
   "execution_count": 419,
   "id": "abstract-whale",
   "metadata": {},
   "outputs": [],
   "source": [
    "df.reset_index(drop=True, inplace=True)"
   ]
  },
  {
   "cell_type": "markdown",
   "id": "separated-vampire",
   "metadata": {},
   "source": [
    "__Do some organizational stuff for later on__"
   ]
  },
  {
   "cell_type": "code",
   "execution_count": 420,
   "id": "cheap-fight",
   "metadata": {},
   "outputs": [],
   "source": [
    "xCols = list(df.columns)\n",
    "xCols.remove('y')\n",
    "yData = df['y']\n",
    "yDataInt = yData.transform(lambda x: 1 if x=='yes'else 0)\n",
    "numCols = ['age', 'duration', 'campaign', 'pdays', 'previous', 'emp.var.rate', 'cons.price.idx', 'cons.conf.idx', 'euribor3m','nr.employed']\n",
    "catCols = ['job', 'marital', 'education', 'default', 'housing', 'loan', 'contact', 'month', 'day_of_week', 'poutcome']"
   ]
  },
  {
   "cell_type": "markdown",
   "id": "bottom-access",
   "metadata": {},
   "source": [
    "#### Get some idea of the numerical features\n",
    "\n",
    "Note that 'campaign' is really an ordinal/categorical value representing the marketing campaign # of the contact. It shouldn't be treated as a numerical value. in the model."
   ]
  },
  {
   "cell_type": "code",
   "execution_count": 421,
   "id": "terminal-sapphire",
   "metadata": {},
   "outputs": [
    {
     "data": {
      "text/html": [
       "<div>\n",
       "<style scoped>\n",
       "    .dataframe tbody tr th:only-of-type {\n",
       "        vertical-align: middle;\n",
       "    }\n",
       "\n",
       "    .dataframe tbody tr th {\n",
       "        vertical-align: top;\n",
       "    }\n",
       "\n",
       "    .dataframe thead th {\n",
       "        text-align: right;\n",
       "    }\n",
       "</style>\n",
       "<table border=\"1\" class=\"dataframe\">\n",
       "  <thead>\n",
       "    <tr style=\"text-align: right;\">\n",
       "      <th></th>\n",
       "      <th>age</th>\n",
       "      <th>duration</th>\n",
       "      <th>campaign</th>\n",
       "      <th>pdays</th>\n",
       "      <th>previous</th>\n",
       "      <th>emp.var.rate</th>\n",
       "      <th>cons.price.idx</th>\n",
       "      <th>cons.conf.idx</th>\n",
       "      <th>euribor3m</th>\n",
       "      <th>nr.employed</th>\n",
       "    </tr>\n",
       "  </thead>\n",
       "  <tbody>\n",
       "    <tr>\n",
       "      <th>count</th>\n",
       "      <td>41176.00000</td>\n",
       "      <td>41176.000000</td>\n",
       "      <td>41176.000000</td>\n",
       "      <td>41176.000000</td>\n",
       "      <td>41176.000000</td>\n",
       "      <td>41176.000000</td>\n",
       "      <td>41176.000000</td>\n",
       "      <td>41176.000000</td>\n",
       "      <td>41176.000000</td>\n",
       "      <td>41176.000000</td>\n",
       "    </tr>\n",
       "    <tr>\n",
       "      <th>mean</th>\n",
       "      <td>40.02380</td>\n",
       "      <td>258.315815</td>\n",
       "      <td>2.567879</td>\n",
       "      <td>962.464810</td>\n",
       "      <td>0.173013</td>\n",
       "      <td>0.081922</td>\n",
       "      <td>93.575720</td>\n",
       "      <td>-40.502863</td>\n",
       "      <td>3.621293</td>\n",
       "      <td>5167.034870</td>\n",
       "    </tr>\n",
       "    <tr>\n",
       "      <th>std</th>\n",
       "      <td>10.42068</td>\n",
       "      <td>259.305321</td>\n",
       "      <td>2.770318</td>\n",
       "      <td>186.937102</td>\n",
       "      <td>0.494964</td>\n",
       "      <td>1.570883</td>\n",
       "      <td>0.578839</td>\n",
       "      <td>4.627860</td>\n",
       "      <td>1.734437</td>\n",
       "      <td>72.251364</td>\n",
       "    </tr>\n",
       "    <tr>\n",
       "      <th>min</th>\n",
       "      <td>17.00000</td>\n",
       "      <td>0.000000</td>\n",
       "      <td>1.000000</td>\n",
       "      <td>0.000000</td>\n",
       "      <td>0.000000</td>\n",
       "      <td>-3.400000</td>\n",
       "      <td>92.201000</td>\n",
       "      <td>-50.800000</td>\n",
       "      <td>0.634000</td>\n",
       "      <td>4963.600000</td>\n",
       "    </tr>\n",
       "    <tr>\n",
       "      <th>25%</th>\n",
       "      <td>32.00000</td>\n",
       "      <td>102.000000</td>\n",
       "      <td>1.000000</td>\n",
       "      <td>999.000000</td>\n",
       "      <td>0.000000</td>\n",
       "      <td>-1.800000</td>\n",
       "      <td>93.075000</td>\n",
       "      <td>-42.700000</td>\n",
       "      <td>1.344000</td>\n",
       "      <td>5099.100000</td>\n",
       "    </tr>\n",
       "    <tr>\n",
       "      <th>50%</th>\n",
       "      <td>38.00000</td>\n",
       "      <td>180.000000</td>\n",
       "      <td>2.000000</td>\n",
       "      <td>999.000000</td>\n",
       "      <td>0.000000</td>\n",
       "      <td>1.100000</td>\n",
       "      <td>93.749000</td>\n",
       "      <td>-41.800000</td>\n",
       "      <td>4.857000</td>\n",
       "      <td>5191.000000</td>\n",
       "    </tr>\n",
       "    <tr>\n",
       "      <th>75%</th>\n",
       "      <td>47.00000</td>\n",
       "      <td>319.000000</td>\n",
       "      <td>3.000000</td>\n",
       "      <td>999.000000</td>\n",
       "      <td>0.000000</td>\n",
       "      <td>1.400000</td>\n",
       "      <td>93.994000</td>\n",
       "      <td>-36.400000</td>\n",
       "      <td>4.961000</td>\n",
       "      <td>5228.100000</td>\n",
       "    </tr>\n",
       "    <tr>\n",
       "      <th>max</th>\n",
       "      <td>98.00000</td>\n",
       "      <td>4918.000000</td>\n",
       "      <td>56.000000</td>\n",
       "      <td>999.000000</td>\n",
       "      <td>7.000000</td>\n",
       "      <td>1.400000</td>\n",
       "      <td>94.767000</td>\n",
       "      <td>-26.900000</td>\n",
       "      <td>5.045000</td>\n",
       "      <td>5228.100000</td>\n",
       "    </tr>\n",
       "  </tbody>\n",
       "</table>\n",
       "</div>"
      ],
      "text/plain": [
       "               age      duration      campaign         pdays      previous  \\\n",
       "count  41176.00000  41176.000000  41176.000000  41176.000000  41176.000000   \n",
       "mean      40.02380    258.315815      2.567879    962.464810      0.173013   \n",
       "std       10.42068    259.305321      2.770318    186.937102      0.494964   \n",
       "min       17.00000      0.000000      1.000000      0.000000      0.000000   \n",
       "25%       32.00000    102.000000      1.000000    999.000000      0.000000   \n",
       "50%       38.00000    180.000000      2.000000    999.000000      0.000000   \n",
       "75%       47.00000    319.000000      3.000000    999.000000      0.000000   \n",
       "max       98.00000   4918.000000     56.000000    999.000000      7.000000   \n",
       "\n",
       "       emp.var.rate  cons.price.idx  cons.conf.idx     euribor3m   nr.employed  \n",
       "count  41176.000000    41176.000000   41176.000000  41176.000000  41176.000000  \n",
       "mean       0.081922       93.575720     -40.502863      3.621293   5167.034870  \n",
       "std        1.570883        0.578839       4.627860      1.734437     72.251364  \n",
       "min       -3.400000       92.201000     -50.800000      0.634000   4963.600000  \n",
       "25%       -1.800000       93.075000     -42.700000      1.344000   5099.100000  \n",
       "50%        1.100000       93.749000     -41.800000      4.857000   5191.000000  \n",
       "75%        1.400000       93.994000     -36.400000      4.961000   5228.100000  \n",
       "max        1.400000       94.767000     -26.900000      5.045000   5228.100000  "
      ]
     },
     "execution_count": 421,
     "metadata": {},
     "output_type": "execute_result"
    }
   ],
   "source": [
    "df.describe()"
   ]
  },
  {
   "cell_type": "markdown",
   "id": "apart-burden",
   "metadata": {},
   "source": [
    "#### And get some idea of the categorical features"
   ]
  },
  {
   "cell_type": "code",
   "execution_count": 422,
   "id": "pacific-metro",
   "metadata": {},
   "outputs": [
    {
     "name": "stdout",
     "output_type": "stream",
     "text": [
      "admin.           10419\n",
      "blue-collar       9253\n",
      "technician        6739\n",
      "services          3967\n",
      "management        2924\n",
      "retired           1718\n",
      "entrepreneur      1456\n",
      "self-employed     1421\n",
      "housemaid         1060\n",
      "unemployed        1014\n",
      "student            875\n",
      "unknown            330\n",
      "Name: job, dtype: int64\n",
      "married     24921\n",
      "single      11564\n",
      "divorced     4611\n",
      "unknown        80\n",
      "Name: marital, dtype: int64\n",
      "university.degree      12164\n",
      "high.school             9512\n",
      "basic.9y                6045\n",
      "professional.course     5240\n",
      "basic.4y                4176\n",
      "basic.6y                2291\n",
      "unknown                 1730\n",
      "illiterate                18\n",
      "Name: education, dtype: int64\n",
      "no         32577\n",
      "unknown     8596\n",
      "yes            3\n",
      "Name: default, dtype: int64\n",
      "yes        21571\n",
      "no         18615\n",
      "unknown      990\n",
      "Name: housing, dtype: int64\n",
      "no         33938\n",
      "yes         6248\n",
      "unknown      990\n",
      "Name: loan, dtype: int64\n",
      "cellular     26135\n",
      "telephone    15041\n",
      "Name: contact, dtype: int64\n",
      "may    13767\n",
      "jul     7169\n",
      "aug     6176\n",
      "jun     5318\n",
      "nov     4100\n",
      "apr     2631\n",
      "oct      717\n",
      "sep      570\n",
      "mar      546\n",
      "dec      182\n",
      "Name: month, dtype: int64\n",
      "thu    8618\n",
      "mon    8512\n",
      "wed    8134\n",
      "tue    8086\n",
      "fri    7826\n",
      "Name: day_of_week, dtype: int64\n",
      "nonexistent    35551\n",
      "failure         4252\n",
      "success         1373\n",
      "Name: poutcome, dtype: int64\n"
     ]
    }
   ],
   "source": [
    "for col in catCols:\n",
    "    print(df[col].value_counts())"
   ]
  },
  {
   "cell_type": "markdown",
   "id": "joined-status",
   "metadata": {},
   "source": [
    "### Start looking for features with good predictive capability"
   ]
  },
  {
   "cell_type": "markdown",
   "id": "graduate-criticism",
   "metadata": {},
   "source": [
    "#### Rank2D"
   ]
  },
  {
   "cell_type": "code",
   "execution_count": 423,
   "id": "growing-relationship",
   "metadata": {},
   "outputs": [],
   "source": [
    "from yellowbrick.features import rank2d"
   ]
  },
  {
   "cell_type": "code",
   "execution_count": 424,
   "id": "human-exclusion",
   "metadata": {},
   "outputs": [
    {
     "data": {
      "image/png": "[encoded data removed]",
      "text/plain": [
       "<Figure size 432x288 with 2 Axes>"
      ]
     },
     "metadata": {
      "needs_background": "light"
     },
     "output_type": "display_data"
    },
    {
     "name": "stderr",
     "output_type": "stream",
     "text": [
      "C:\\Users\\wadeb\\Anaconda3\\lib\\site-packages\\sklearn\\base.py:197: FutureWarning: From version 0.24, get_params will raise an AttributeError if a parameter cannot be retrieved as an instance attribute. Previously it would return None.\n",
      "  FutureWarning)\n"
     ]
    },
    {
     "data": {
      "text/plain": [
       "Rank2D(algorithm=None,\n",
       "       ax=<AxesSubplot:title={'center':'Pearson Ranking of 11 Features'}>,\n",
       "       colormap='RdBu_r', features=None, show_feature_names=None)"
      ]
     },
     "execution_count": 424,
     "metadata": {},
     "output_type": "execute_result"
    }
   ],
   "source": [
    "rank2d(df[numCols].join(yDataInt))"
   ]
  },
  {
   "cell_type": "markdown",
   "id": "stock-michigan",
   "metadata": {},
   "source": [
    "#### Predictive Power Score "
   ]
  },
  {
   "cell_type": "markdown",
   "id": "fifty-attraction",
   "metadata": {},
   "source": [
    "*Experimenting with the sample option here. Normally pps would take a random sample of 5K rows. Since this dataset is heavily weighted towards the 'n' case, we might not end up with a strong enough sample of 'y' data points. To work around that for now, we'll turn off sampling. This will have to be considered in the model, we may want to oversample the 'y' points. Note that it does make a difference in the score values and could potentially lead to somebody including or not including a feature.*"
   ]
  },
  {
   "cell_type": "code",
   "execution_count": 425,
   "id": "coral-corruption",
   "metadata": {
    "collapsed": true,
    "jupyter": {
     "outputs_hidden": true
    }
   },
   "outputs": [
    {
     "name": "stderr",
     "output_type": "stream",
     "text": [
      "C:\\Users\\wadeb\\Anaconda3\\lib\\site-packages\\sklearn\\model_selection\\_split.py:667: UserWarning: The least populated class in y has only 3 members, which is less than n_splits=4.\n",
      "  % (min_groups, self.n_splits)), UserWarning)\n",
      "C:\\Users\\wadeb\\Anaconda3\\lib\\site-packages\\sklearn\\model_selection\\_split.py:667: UserWarning: The least populated class in y has only 3 members, which is less than n_splits=4.\n",
      "  % (min_groups, self.n_splits)), UserWarning)\n",
      "C:\\Users\\wadeb\\Anaconda3\\lib\\site-packages\\sklearn\\model_selection\\_split.py:667: UserWarning: The least populated class in y has only 3 members, which is less than n_splits=4.\n",
      "  % (min_groups, self.n_splits)), UserWarning)\n",
      "C:\\Users\\wadeb\\Anaconda3\\lib\\site-packages\\sklearn\\model_selection\\_split.py:667: UserWarning: The least populated class in y has only 3 members, which is less than n_splits=4.\n",
      "  % (min_groups, self.n_splits)), UserWarning)\n",
      "C:\\Users\\wadeb\\Anaconda3\\lib\\site-packages\\sklearn\\model_selection\\_split.py:667: UserWarning: The least populated class in y has only 3 members, which is less than n_splits=4.\n",
      "  % (min_groups, self.n_splits)), UserWarning)\n",
      "C:\\Users\\wadeb\\Anaconda3\\lib\\site-packages\\sklearn\\model_selection\\_split.py:667: UserWarning: The least populated class in y has only 3 members, which is less than n_splits=4.\n",
      "  % (min_groups, self.n_splits)), UserWarning)\n",
      "C:\\Users\\wadeb\\Anaconda3\\lib\\site-packages\\sklearn\\model_selection\\_split.py:667: UserWarning: The least populated class in y has only 3 members, which is less than n_splits=4.\n",
      "  % (min_groups, self.n_splits)), UserWarning)\n",
      "C:\\Users\\wadeb\\Anaconda3\\lib\\site-packages\\sklearn\\model_selection\\_split.py:667: UserWarning: The least populated class in y has only 3 members, which is less than n_splits=4.\n",
      "  % (min_groups, self.n_splits)), UserWarning)\n",
      "C:\\Users\\wadeb\\Anaconda3\\lib\\site-packages\\sklearn\\model_selection\\_split.py:667: UserWarning: The least populated class in y has only 3 members, which is less than n_splits=4.\n",
      "  % (min_groups, self.n_splits)), UserWarning)\n",
      "C:\\Users\\wadeb\\Anaconda3\\lib\\site-packages\\sklearn\\model_selection\\_split.py:667: UserWarning: The least populated class in y has only 3 members, which is less than n_splits=4.\n",
      "  % (min_groups, self.n_splits)), UserWarning)\n",
      "C:\\Users\\wadeb\\Anaconda3\\lib\\site-packages\\sklearn\\model_selection\\_split.py:667: UserWarning: The least populated class in y has only 3 members, which is less than n_splits=4.\n",
      "  % (min_groups, self.n_splits)), UserWarning)\n",
      "C:\\Users\\wadeb\\Anaconda3\\lib\\site-packages\\sklearn\\model_selection\\_split.py:667: UserWarning: The least populated class in y has only 3 members, which is less than n_splits=4.\n",
      "  % (min_groups, self.n_splits)), UserWarning)\n",
      "C:\\Users\\wadeb\\Anaconda3\\lib\\site-packages\\sklearn\\model_selection\\_split.py:667: UserWarning: The least populated class in y has only 3 members, which is less than n_splits=4.\n",
      "  % (min_groups, self.n_splits)), UserWarning)\n",
      "C:\\Users\\wadeb\\Anaconda3\\lib\\site-packages\\sklearn\\model_selection\\_split.py:667: UserWarning: The least populated class in y has only 3 members, which is less than n_splits=4.\n",
      "  % (min_groups, self.n_splits)), UserWarning)\n",
      "C:\\Users\\wadeb\\Anaconda3\\lib\\site-packages\\sklearn\\model_selection\\_split.py:667: UserWarning: The least populated class in y has only 3 members, which is less than n_splits=4.\n",
      "  % (min_groups, self.n_splits)), UserWarning)\n",
      "C:\\Users\\wadeb\\Anaconda3\\lib\\site-packages\\sklearn\\model_selection\\_split.py:667: UserWarning: The least populated class in y has only 3 members, which is less than n_splits=4.\n",
      "  % (min_groups, self.n_splits)), UserWarning)\n",
      "C:\\Users\\wadeb\\Anaconda3\\lib\\site-packages\\sklearn\\model_selection\\_split.py:667: UserWarning: The least populated class in y has only 3 members, which is less than n_splits=4.\n",
      "  % (min_groups, self.n_splits)), UserWarning)\n",
      "C:\\Users\\wadeb\\Anaconda3\\lib\\site-packages\\sklearn\\model_selection\\_split.py:667: UserWarning: The least populated class in y has only 3 members, which is less than n_splits=4.\n",
      "  % (min_groups, self.n_splits)), UserWarning)\n",
      "C:\\Users\\wadeb\\Anaconda3\\lib\\site-packages\\sklearn\\model_selection\\_split.py:667: UserWarning: The least populated class in y has only 3 members, which is less than n_splits=4.\n",
      "  % (min_groups, self.n_splits)), UserWarning)\n",
      "C:\\Users\\wadeb\\Anaconda3\\lib\\site-packages\\sklearn\\model_selection\\_split.py:667: UserWarning: The least populated class in y has only 3 members, which is less than n_splits=4.\n",
      "  % (min_groups, self.n_splits)), UserWarning)\n"
     ]
    }
   ],
   "source": [
    "ppsMatrixFull= pps.matrix(df, sample=None)"
   ]
  },
  {
   "cell_type": "code",
   "execution_count": 426,
   "id": "noble-subscription",
   "metadata": {
    "collapsed": true,
    "jupyter": {
     "outputs_hidden": true
    }
   },
   "outputs": [
    {
     "name": "stderr",
     "output_type": "stream",
     "text": [
      "C:\\Users\\wadeb\\Anaconda3\\lib\\site-packages\\sklearn\\model_selection\\_split.py:667: UserWarning: The least populated class in y has only 1 members, which is less than n_splits=4.\n",
      "  % (min_groups, self.n_splits)), UserWarning)\n",
      "C:\\Users\\wadeb\\Anaconda3\\lib\\site-packages\\sklearn\\model_selection\\_split.py:667: UserWarning: The least populated class in y has only 1 members, which is less than n_splits=4.\n",
      "  % (min_groups, self.n_splits)), UserWarning)\n",
      "C:\\Users\\wadeb\\Anaconda3\\lib\\site-packages\\sklearn\\model_selection\\_split.py:667: UserWarning: The least populated class in y has only 1 members, which is less than n_splits=4.\n",
      "  % (min_groups, self.n_splits)), UserWarning)\n",
      "C:\\Users\\wadeb\\Anaconda3\\lib\\site-packages\\sklearn\\model_selection\\_split.py:667: UserWarning: The least populated class in y has only 1 members, which is less than n_splits=4.\n",
      "  % (min_groups, self.n_splits)), UserWarning)\n",
      "C:\\Users\\wadeb\\Anaconda3\\lib\\site-packages\\sklearn\\model_selection\\_split.py:667: UserWarning: The least populated class in y has only 1 members, which is less than n_splits=4.\n",
      "  % (min_groups, self.n_splits)), UserWarning)\n",
      "C:\\Users\\wadeb\\Anaconda3\\lib\\site-packages\\sklearn\\model_selection\\_split.py:667: UserWarning: The least populated class in y has only 1 members, which is less than n_splits=4.\n",
      "  % (min_groups, self.n_splits)), UserWarning)\n",
      "C:\\Users\\wadeb\\Anaconda3\\lib\\site-packages\\sklearn\\model_selection\\_split.py:667: UserWarning: The least populated class in y has only 1 members, which is less than n_splits=4.\n",
      "  % (min_groups, self.n_splits)), UserWarning)\n",
      "C:\\Users\\wadeb\\Anaconda3\\lib\\site-packages\\sklearn\\model_selection\\_split.py:667: UserWarning: The least populated class in y has only 1 members, which is less than n_splits=4.\n",
      "  % (min_groups, self.n_splits)), UserWarning)\n",
      "C:\\Users\\wadeb\\Anaconda3\\lib\\site-packages\\sklearn\\model_selection\\_split.py:667: UserWarning: The least populated class in y has only 1 members, which is less than n_splits=4.\n",
      "  % (min_groups, self.n_splits)), UserWarning)\n",
      "C:\\Users\\wadeb\\Anaconda3\\lib\\site-packages\\sklearn\\model_selection\\_split.py:667: UserWarning: The least populated class in y has only 1 members, which is less than n_splits=4.\n",
      "  % (min_groups, self.n_splits)), UserWarning)\n",
      "C:\\Users\\wadeb\\Anaconda3\\lib\\site-packages\\sklearn\\model_selection\\_split.py:667: UserWarning: The least populated class in y has only 1 members, which is less than n_splits=4.\n",
      "  % (min_groups, self.n_splits)), UserWarning)\n",
      "C:\\Users\\wadeb\\Anaconda3\\lib\\site-packages\\sklearn\\model_selection\\_split.py:667: UserWarning: The least populated class in y has only 1 members, which is less than n_splits=4.\n",
      "  % (min_groups, self.n_splits)), UserWarning)\n",
      "C:\\Users\\wadeb\\Anaconda3\\lib\\site-packages\\sklearn\\model_selection\\_split.py:667: UserWarning: The least populated class in y has only 1 members, which is less than n_splits=4.\n",
      "  % (min_groups, self.n_splits)), UserWarning)\n",
      "C:\\Users\\wadeb\\Anaconda3\\lib\\site-packages\\sklearn\\model_selection\\_split.py:667: UserWarning: The least populated class in y has only 1 members, which is less than n_splits=4.\n",
      "  % (min_groups, self.n_splits)), UserWarning)\n",
      "C:\\Users\\wadeb\\Anaconda3\\lib\\site-packages\\sklearn\\model_selection\\_split.py:667: UserWarning: The least populated class in y has only 1 members, which is less than n_splits=4.\n",
      "  % (min_groups, self.n_splits)), UserWarning)\n",
      "C:\\Users\\wadeb\\Anaconda3\\lib\\site-packages\\sklearn\\model_selection\\_split.py:667: UserWarning: The least populated class in y has only 1 members, which is less than n_splits=4.\n",
      "  % (min_groups, self.n_splits)), UserWarning)\n",
      "C:\\Users\\wadeb\\Anaconda3\\lib\\site-packages\\sklearn\\model_selection\\_split.py:667: UserWarning: The least populated class in y has only 1 members, which is less than n_splits=4.\n",
      "  % (min_groups, self.n_splits)), UserWarning)\n",
      "C:\\Users\\wadeb\\Anaconda3\\lib\\site-packages\\sklearn\\model_selection\\_split.py:667: UserWarning: The least populated class in y has only 1 members, which is less than n_splits=4.\n",
      "  % (min_groups, self.n_splits)), UserWarning)\n",
      "C:\\Users\\wadeb\\Anaconda3\\lib\\site-packages\\sklearn\\model_selection\\_split.py:667: UserWarning: The least populated class in y has only 1 members, which is less than n_splits=4.\n",
      "  % (min_groups, self.n_splits)), UserWarning)\n",
      "C:\\Users\\wadeb\\Anaconda3\\lib\\site-packages\\sklearn\\model_selection\\_split.py:667: UserWarning: The least populated class in y has only 1 members, which is less than n_splits=4.\n",
      "  % (min_groups, self.n_splits)), UserWarning)\n"
     ]
    }
   ],
   "source": [
    "ppsMatrix = pps.matrix(df)"
   ]
  },
  {
   "cell_type": "code",
   "execution_count": 427,
   "id": "gross-nomination",
   "metadata": {
    "collapsed": true,
    "jupyter": {
     "outputs_hidden": true
    }
   },
   "outputs": [
    {
     "name": "stdout",
     "output_type": "stream",
     "text": [
      "     x               y       ppscore            case  is_valid_score  \\\n",
      "420  y             age  0.000000e+00      regression            True   \n",
      "421  y             job  0.000000e+00  classification            True   \n",
      "422  y         marital  0.000000e+00  classification            True   \n",
      "423  y       education  0.000000e+00  classification            True   \n",
      "424  y         default  2.045336e-09  classification            True   \n",
      "425  y         housing  0.000000e+00  classification            True   \n",
      "426  y            loan  3.045680e-09  classification            True   \n",
      "427  y         contact  0.000000e+00  classification            True   \n",
      "428  y           month  0.000000e+00  classification            True   \n",
      "429  y     day_of_week  0.000000e+00  classification            True   \n",
      "430  y        duration  1.025890e-02      regression            True   \n",
      "431  y        campaign  0.000000e+00      regression            True   \n",
      "432  y           pdays  0.000000e+00      regression            True   \n",
      "433  y        previous  0.000000e+00      regression            True   \n",
      "434  y        poutcome  2.736134e-09  classification            True   \n",
      "435  y    emp.var.rate  0.000000e+00      regression            True   \n",
      "436  y  cons.price.idx  8.491926e-03      regression            True   \n",
      "437  y   cons.conf.idx  0.000000e+00      regression            True   \n",
      "438  y       euribor3m  0.000000e+00      regression            True   \n",
      "439  y     nr.employed  0.000000e+00      regression            True   \n",
      "440  y               y  1.000000e+00  predict_itself            True   \n",
      "\n",
      "                  metric  baseline_score  model_score  \\\n",
      "420  mean absolute error        8.331698     8.468369   \n",
      "421          weighted F1        0.160798     0.102195   \n",
      "422          weighted F1        0.456795     0.456389   \n",
      "423          weighted F1        0.194191     0.134737   \n",
      "424          weighted F1        0.698921     0.698921   \n",
      "425          weighted F1        0.478871     0.360191   \n",
      "426          weighted F1        0.744796     0.744796   \n",
      "427          weighted F1        0.532252     0.492884   \n",
      "428          weighted F1        0.193729     0.167553   \n",
      "429          weighted F1        0.200869     0.103308   \n",
      "430  mean absolute error      157.445065   155.829852   \n",
      "431  mean absolute error        1.424398     1.625041   \n",
      "432  mean absolute error       36.535190    62.958897   \n",
      "433  mean absolute error        0.173013     0.283639   \n",
      "434          weighted F1        0.800094     0.800094   \n",
      "435  mean absolute error        1.254546     1.322747   \n",
      "436  mean absolute error        0.509059     0.504736   \n",
      "437  mean absolute error        3.741444     3.927792   \n",
      "438  mean absolute error        1.313234     1.462239   \n",
      "439  mean absolute error       54.066762    55.528654   \n",
      "440                 None        0.000000     1.000000   \n",
      "\n",
      "                                                 model  \n",
      "420  DecisionTreeRegressor(ccp_alpha=0.0, criterion...  \n",
      "421  DecisionTreeClassifier(ccp_alpha=0.0, class_we...  \n",
      "422  DecisionTreeClassifier(ccp_alpha=0.0, class_we...  \n",
      "423  DecisionTreeClassifier(ccp_alpha=0.0, class_we...  \n",
      "424  DecisionTreeClassifier(ccp_alpha=0.0, class_we...  \n",
      "425  DecisionTreeClassifier(ccp_alpha=0.0, class_we...  \n",
      "426  DecisionTreeClassifier(ccp_alpha=0.0, class_we...  \n",
      "427  DecisionTreeClassifier(ccp_alpha=0.0, class_we...  \n",
      "428  DecisionTreeClassifier(ccp_alpha=0.0, class_we...  \n",
      "429  DecisionTreeClassifier(ccp_alpha=0.0, class_we...  \n",
      "430  DecisionTreeRegressor(ccp_alpha=0.0, criterion...  \n",
      "431  DecisionTreeRegressor(ccp_alpha=0.0, criterion...  \n",
      "432  DecisionTreeRegressor(ccp_alpha=0.0, criterion...  \n",
      "433  DecisionTreeRegressor(ccp_alpha=0.0, criterion...  \n",
      "434  DecisionTreeClassifier(ccp_alpha=0.0, class_we...  \n",
      "435  DecisionTreeRegressor(ccp_alpha=0.0, criterion...  \n",
      "436  DecisionTreeRegressor(ccp_alpha=0.0, criterion...  \n",
      "437  DecisionTreeRegressor(ccp_alpha=0.0, criterion...  \n",
      "438  DecisionTreeRegressor(ccp_alpha=0.0, criterion...  \n",
      "439  DecisionTreeRegressor(ccp_alpha=0.0, criterion...  \n",
      "440                                               None  \n"
     ]
    }
   ],
   "source": [
    "print(ppsMatrixFull[ppsMatrix['x']=='y'])"
   ]
  },
  {
   "cell_type": "code",
   "execution_count": 428,
   "id": "located-avatar",
   "metadata": {
    "collapsed": true,
    "jupyter": {
     "outputs_hidden": true
    }
   },
   "outputs": [
    {
     "name": "stdout",
     "output_type": "stream",
     "text": [
      "     x               y       ppscore            case  is_valid_score  \\\n",
      "420  y             age  0.000000e+00      regression            True   \n",
      "421  y             job  0.000000e+00  classification            True   \n",
      "422  y         marital  0.000000e+00  classification            True   \n",
      "423  y       education  0.000000e+00  classification            True   \n",
      "424  y         default  0.000000e+00  classification            True   \n",
      "425  y         housing  0.000000e+00  classification            True   \n",
      "426  y            loan  1.561424e-07  classification            True   \n",
      "427  y         contact  0.000000e+00  classification            True   \n",
      "428  y           month  0.000000e+00  classification            True   \n",
      "429  y     day_of_week  0.000000e+00  classification            True   \n",
      "430  y        duration  1.336501e-02      regression            True   \n",
      "431  y        campaign  0.000000e+00      regression            True   \n",
      "432  y           pdays  0.000000e+00      regression            True   \n",
      "433  y        previous  0.000000e+00      regression            True   \n",
      "434  y        poutcome  2.466047e-07  classification            True   \n",
      "435  y    emp.var.rate  0.000000e+00      regression            True   \n",
      "436  y  cons.price.idx  8.317507e-03      regression            True   \n",
      "437  y   cons.conf.idx  0.000000e+00      regression            True   \n",
      "438  y       euribor3m  0.000000e+00      regression            True   \n",
      "439  y     nr.employed  0.000000e+00      regression            True   \n",
      "440  y               y  1.000000e+00  predict_itself            True   \n",
      "\n",
      "                  metric  baseline_score  model_score  \\\n",
      "420  mean absolute error        8.454800     8.607043   \n",
      "421          weighted F1        0.161200     0.097849   \n",
      "422          weighted F1        0.454600     0.449513   \n",
      "423          weighted F1        0.186000     0.124063   \n",
      "424          weighted F1        0.703379     0.703379   \n",
      "425          weighted F1        0.488600     0.366273   \n",
      "426          weighted F1        0.747570     0.747570   \n",
      "427          weighted F1        0.541600     0.503537   \n",
      "428          weighted F1        0.195200     0.165497   \n",
      "429          weighted F1        0.197600     0.105545   \n",
      "430  mean absolute error      157.802400   155.693369   \n",
      "431  mean absolute error        1.444800     1.657528   \n",
      "432  mean absolute error       39.908400    70.235392   \n",
      "433  mean absolute error        0.174000     0.289459   \n",
      "434          weighted F1        0.799253     0.799253   \n",
      "435  mean absolute error        1.282060     1.344947   \n",
      "436  mean absolute error        0.514430     0.510152   \n",
      "437  mean absolute error        3.732800     3.935641   \n",
      "438  mean absolute error        1.339842     1.483805   \n",
      "439  mean absolute error       55.038540    56.538286   \n",
      "440                 None        0.000000     1.000000   \n",
      "\n",
      "                                                 model  \n",
      "420  DecisionTreeRegressor(ccp_alpha=0.0, criterion...  \n",
      "421  DecisionTreeClassifier(ccp_alpha=0.0, class_we...  \n",
      "422  DecisionTreeClassifier(ccp_alpha=0.0, class_we...  \n",
      "423  DecisionTreeClassifier(ccp_alpha=0.0, class_we...  \n",
      "424  DecisionTreeClassifier(ccp_alpha=0.0, class_we...  \n",
      "425  DecisionTreeClassifier(ccp_alpha=0.0, class_we...  \n",
      "426  DecisionTreeClassifier(ccp_alpha=0.0, class_we...  \n",
      "427  DecisionTreeClassifier(ccp_alpha=0.0, class_we...  \n",
      "428  DecisionTreeClassifier(ccp_alpha=0.0, class_we...  \n",
      "429  DecisionTreeClassifier(ccp_alpha=0.0, class_we...  \n",
      "430  DecisionTreeRegressor(ccp_alpha=0.0, criterion...  \n",
      "431  DecisionTreeRegressor(ccp_alpha=0.0, criterion...  \n",
      "432  DecisionTreeRegressor(ccp_alpha=0.0, criterion...  \n",
      "433  DecisionTreeRegressor(ccp_alpha=0.0, criterion...  \n",
      "434  DecisionTreeClassifier(ccp_alpha=0.0, class_we...  \n",
      "435  DecisionTreeRegressor(ccp_alpha=0.0, criterion...  \n",
      "436  DecisionTreeRegressor(ccp_alpha=0.0, criterion...  \n",
      "437  DecisionTreeRegressor(ccp_alpha=0.0, criterion...  \n",
      "438  DecisionTreeRegressor(ccp_alpha=0.0, criterion...  \n",
      "439  DecisionTreeRegressor(ccp_alpha=0.0, criterion...  \n",
      "440                                               None  \n"
     ]
    }
   ],
   "source": [
    "print(ppsMatrix[ppsMatrix['x']=='y'])"
   ]
  },
  {
   "cell_type": "code",
   "execution_count": 429,
   "id": "incorporate-metro",
   "metadata": {},
   "outputs": [
    {
     "name": "stdout",
     "output_type": "stream",
     "text": [
      "     x               y       ppscore  baseline_score  model_score\n",
      "424  y         default  2.045336e-09        0.698921     0.698921\n",
      "426  y            loan  3.045680e-09        0.744796     0.744796\n",
      "430  y        duration  1.025890e-02      157.445065   155.829852\n",
      "434  y        poutcome  2.736134e-09        0.800094     0.800094\n",
      "436  y  cons.price.idx  8.491926e-03        0.509059     0.504736\n",
      "440  y               y  1.000000e+00        0.000000     1.000000\n",
      "                  x  y   ppscore  baseline_score  model_score\n",
      "20              age  y  0.025809        0.834369     0.838643\n",
      "188           month  y  0.052276        0.834369     0.843027\n",
      "230        duration  y  0.160887        0.834369     0.861016\n",
      "272           pdays  y  0.227693        0.834369     0.872082\n",
      "293        previous  y  0.047017        0.834369     0.842156\n",
      "314        poutcome  y  0.225608        0.834369     0.871736\n",
      "335    emp.var.rate  y  0.118174        0.834369     0.853942\n",
      "356  cons.price.idx  y  0.180819        0.834369     0.864318\n",
      "377   cons.conf.idx  y  0.180819        0.834369     0.864318\n",
      "398       euribor3m  y  0.202784        0.834369     0.867956\n",
      "419     nr.employed  y  0.189514        0.834369     0.865758\n",
      "440               y  y  1.000000        0.000000     1.000000\n"
     ]
    }
   ],
   "source": [
    "tempDF=ppsMatrixFull[['x', 'y', 'ppscore', 'baseline_score', 'model_score']]\n",
    "print(tempDF[(tempDF['x']=='y') & (tempDF['ppscore']!=0)])\n",
    "print(tempDF[(tempDF['y']=='y') & (tempDF['ppscore']>3.1780485e-09)])\n",
    "features2UseDF = tempDF[(tempDF['y']=='y')].drop(columns=[\"y\", \"baseline_score\", \"model_score\"])\n",
    "#features2UseDF.drop(columns=[\"y\", \"baseline_score\", \"model_score\"], inplace=True)"
   ]
  },
  {
   "cell_type": "markdown",
   "id": "exterior-terminology",
   "metadata": {},
   "source": [
    "**Let's focus on these:**\n",
    "---\n",
    "The following is a sorted list of all the Predictive Power Scores. It's easy to see where big changes in magnitude of the PPS changes as we go from e-01 to e-02 to e-09. We might choose to focus on the 8 features in the e-01 range, or we could add the extra 3 features that drop into the e-02 range. Anything in the e-09 range is practically 0 so it's probably not worth bothering with those. The feature reduction will help once we start encoding the categorical features.\n",
    "\n",
    "While duration's predictive power is relatively high, it's not a forward looking predictor. We might have this other information available for a new customer, but we won't know how long that customer will speak on the phone with us. We'll drop that variable as well."
   ]
  },
  {
   "cell_type": "code",
   "execution_count": 430,
   "id": "wrong-radical",
   "metadata": {},
   "outputs": [
    {
     "data": {
      "text/html": [
       "<div>\n",
       "<style scoped>\n",
       "    .dataframe tbody tr th:only-of-type {\n",
       "        vertical-align: middle;\n",
       "    }\n",
       "\n",
       "    .dataframe tbody tr th {\n",
       "        vertical-align: top;\n",
       "    }\n",
       "\n",
       "    .dataframe thead th {\n",
       "        text-align: right;\n",
       "    }\n",
       "</style>\n",
       "<table border=\"1\" class=\"dataframe\">\n",
       "  <thead>\n",
       "    <tr style=\"text-align: right;\">\n",
       "      <th></th>\n",
       "      <th>index</th>\n",
       "      <th>x</th>\n",
       "      <th>ppscore</th>\n",
       "    </tr>\n",
       "  </thead>\n",
       "  <tbody>\n",
       "    <tr>\n",
       "      <th>1</th>\n",
       "      <td>272</td>\n",
       "      <td>pdays</td>\n",
       "      <td>2.276925e-01</td>\n",
       "    </tr>\n",
       "    <tr>\n",
       "      <th>2</th>\n",
       "      <td>314</td>\n",
       "      <td>poutcome</td>\n",
       "      <td>2.256076e-01</td>\n",
       "    </tr>\n",
       "    <tr>\n",
       "      <th>3</th>\n",
       "      <td>398</td>\n",
       "      <td>euribor3m</td>\n",
       "      <td>2.027842e-01</td>\n",
       "    </tr>\n",
       "    <tr>\n",
       "      <th>4</th>\n",
       "      <td>419</td>\n",
       "      <td>nr.employed</td>\n",
       "      <td>1.895143e-01</td>\n",
       "    </tr>\n",
       "    <tr>\n",
       "      <th>5</th>\n",
       "      <td>377</td>\n",
       "      <td>cons.conf.idx</td>\n",
       "      <td>1.808194e-01</td>\n",
       "    </tr>\n",
       "    <tr>\n",
       "      <th>6</th>\n",
       "      <td>356</td>\n",
       "      <td>cons.price.idx</td>\n",
       "      <td>1.808194e-01</td>\n",
       "    </tr>\n",
       "    <tr>\n",
       "      <th>7</th>\n",
       "      <td>230</td>\n",
       "      <td>duration</td>\n",
       "      <td>1.608868e-01</td>\n",
       "    </tr>\n",
       "    <tr>\n",
       "      <th>8</th>\n",
       "      <td>335</td>\n",
       "      <td>emp.var.rate</td>\n",
       "      <td>1.181736e-01</td>\n",
       "    </tr>\n",
       "    <tr>\n",
       "      <th>9</th>\n",
       "      <td>188</td>\n",
       "      <td>month</td>\n",
       "      <td>5.227629e-02</td>\n",
       "    </tr>\n",
       "    <tr>\n",
       "      <th>10</th>\n",
       "      <td>293</td>\n",
       "      <td>previous</td>\n",
       "      <td>4.701668e-02</td>\n",
       "    </tr>\n",
       "    <tr>\n",
       "      <th>11</th>\n",
       "      <td>20</td>\n",
       "      <td>age</td>\n",
       "      <td>2.580887e-02</td>\n",
       "    </tr>\n",
       "    <tr>\n",
       "      <th>12</th>\n",
       "      <td>209</td>\n",
       "      <td>day_of_week</td>\n",
       "      <td>3.178048e-09</td>\n",
       "    </tr>\n",
       "    <tr>\n",
       "      <th>13</th>\n",
       "      <td>41</td>\n",
       "      <td>job</td>\n",
       "      <td>3.178048e-09</td>\n",
       "    </tr>\n",
       "    <tr>\n",
       "      <th>14</th>\n",
       "      <td>251</td>\n",
       "      <td>campaign</td>\n",
       "      <td>3.178048e-09</td>\n",
       "    </tr>\n",
       "    <tr>\n",
       "      <th>15</th>\n",
       "      <td>167</td>\n",
       "      <td>contact</td>\n",
       "      <td>3.178048e-09</td>\n",
       "    </tr>\n",
       "    <tr>\n",
       "      <th>16</th>\n",
       "      <td>146</td>\n",
       "      <td>loan</td>\n",
       "      <td>3.178048e-09</td>\n",
       "    </tr>\n",
       "    <tr>\n",
       "      <th>17</th>\n",
       "      <td>125</td>\n",
       "      <td>housing</td>\n",
       "      <td>3.178048e-09</td>\n",
       "    </tr>\n",
       "    <tr>\n",
       "      <th>18</th>\n",
       "      <td>104</td>\n",
       "      <td>default</td>\n",
       "      <td>3.178048e-09</td>\n",
       "    </tr>\n",
       "    <tr>\n",
       "      <th>19</th>\n",
       "      <td>83</td>\n",
       "      <td>education</td>\n",
       "      <td>3.178048e-09</td>\n",
       "    </tr>\n",
       "    <tr>\n",
       "      <th>20</th>\n",
       "      <td>62</td>\n",
       "      <td>marital</td>\n",
       "      <td>3.178048e-09</td>\n",
       "    </tr>\n",
       "  </tbody>\n",
       "</table>\n",
       "</div>"
      ],
      "text/plain": [
       "    index               x       ppscore\n",
       "1     272           pdays  2.276925e-01\n",
       "2     314        poutcome  2.256076e-01\n",
       "3     398       euribor3m  2.027842e-01\n",
       "4     419     nr.employed  1.895143e-01\n",
       "5     377   cons.conf.idx  1.808194e-01\n",
       "6     356  cons.price.idx  1.808194e-01\n",
       "7     230        duration  1.608868e-01\n",
       "8     335    emp.var.rate  1.181736e-01\n",
       "9     188           month  5.227629e-02\n",
       "10    293        previous  4.701668e-02\n",
       "11     20             age  2.580887e-02\n",
       "12    209     day_of_week  3.178048e-09\n",
       "13     41             job  3.178048e-09\n",
       "14    251        campaign  3.178048e-09\n",
       "15    167         contact  3.178048e-09\n",
       "16    146            loan  3.178048e-09\n",
       "17    125         housing  3.178048e-09\n",
       "18    104         default  3.178048e-09\n",
       "19     83       education  3.178048e-09\n",
       "20     62         marital  3.178048e-09"
      ]
     },
     "execution_count": 430,
     "metadata": {},
     "output_type": "execute_result"
    }
   ],
   "source": [
    "features2UseDF.sort_values('ppscore', ascending=False).reset_index().loc[1:]"
   ]
  },
  {
   "cell_type": "markdown",
   "id": "sound-impossible",
   "metadata": {},
   "source": [
    "Maybe there's another question to answer- Do we include the e-02 columns or not? Including the age and previous columns is relatively minor since they're numeric. Including month will add 11 columns for OneHot encoding, so maybe we want to think about that first. Maybe a stacked bar-graph showing the # (or %) of contacts in each month that were successful or not."
   ]
  },
  {
   "cell_type": "code",
   "execution_count": 431,
   "id": "dominican-craps",
   "metadata": {},
   "outputs": [
    {
     "data": {
      "image/png": "[encoded data removed]",
      "text/plain": [
       "<Figure size 432x288 with 1 Axes>"
      ]
     },
     "metadata": {
      "needs_background": "light"
     },
     "output_type": "display_data"
    }
   ],
   "source": [
    "#perMonthSuccess = sn.load_dataset(df['month', 'y'])\n",
    "ax = sns.countplot(x='month', hue='y' , data = df[['month', 'y']])"
   ]
  },
  {
   "cell_type": "markdown",
   "id": "discrete-savannah",
   "metadata": {},
   "source": [
    "Seems like Oct, Dec, Mar, and Sep are about 50/50 for success, other months, especially May, are very low percentage. So maybe it's worth keeping the Month column and encoding it."
   ]
  },
  {
   "cell_type": "code",
   "execution_count": 432,
   "id": "oriental-occasion",
   "metadata": {},
   "outputs": [
    {
     "data": {
      "image/png": "[encoded data removed]",
      "text/plain": [
       "<Figure size 432x288 with 1 Axes>"
      ]
     },
     "metadata": {
      "needs_background": "light"
     },
     "output_type": "display_data"
    }
   ],
   "source": [
    "ax = sns.countplot(x='campaign', hue='y' , data = df[['campaign', 'y']])"
   ]
  },
  {
   "cell_type": "markdown",
   "id": "attempted-consistency",
   "metadata": {},
   "source": [
    "Campaign does seem to have a strong relationship with the number of yes results. However, this is likely to only be helpful if our current campaign is comparable to one of these previous campaigns. If campaign 1 in the figure above spent a lot of money on advertising and our current campaign does not, it's likely we won't get the same results. What would be helpful is if the marketing organization could categorize campaigns into one of several distinct types. 'Large', 'Small', 'Online-only', 'Broadcast media', something like that. That way when we have a new campaign we have a better chance at saying which past campaigns it would be similar to.\n",
    "\n",
    "For now, we'll drop campaign."
   ]
  },
  {
   "cell_type": "code",
   "execution_count": 433,
   "id": "operational-indonesian",
   "metadata": {},
   "outputs": [],
   "source": [
    "df.drop(columns=['duration', 'day_of_week', 'job', 'campaign', 'contact', 'loan', 'housing', 'default', 'education', 'marital'], inplace=True)"
   ]
  },
  {
   "cell_type": "markdown",
   "id": "cordless-inquiry",
   "metadata": {},
   "source": [
    "#### Normalize numerics, encode the categorics\n",
    "\n",
    "Note that the instatiation and fitting of the normalizer and encoders here is really just kind of debug. They're only actually being used in the `Pipeline` call. Besides checking that `fit`, if you want to check the actual results, use something like `encTarget.transform(df['y'].loc[0:15])`"
   ]
  },
  {
   "cell_type": "code",
   "execution_count": 435,
   "id": "split-lingerie",
   "metadata": {},
   "outputs": [
    {
     "data": {
      "text/plain": [
       "MinMaxScaler(copy=True, feature_range=(0, 1))"
      ]
     },
     "execution_count": 435,
     "metadata": {},
     "output_type": "execute_result"
    }
   ],
   "source": [
    "numericCols = ['pdays', 'euribor3m', 'nr.employed', 'cons.conf.idx', 'cons.price.idx', 'emp.var.rate', 'previous', 'age']\n",
    "catCols = ['month', 'poutcome']#, 'euribor3m', 'nr.employed', 'cons.conf.idx', 'cons.price.idx', 'duration', 'emp.var.rate', 'previous', 'age']\n",
    "\n",
    "normalizer = MinMaxScaler()\n",
    "normalizer.fit(df[numericCols])"
   ]
  },
  {
   "cell_type": "code",
   "execution_count": 436,
   "id": "historic-addiction",
   "metadata": {},
   "outputs": [
    {
     "data": {
      "text/plain": [
       "LabelBinarizer(neg_label=0, pos_label=1, sparse_output=False)"
      ]
     },
     "execution_count": 436,
     "metadata": {},
     "output_type": "execute_result"
    }
   ],
   "source": [
    "enc = OneHotEncoder(handle_unknown='ignore')\n",
    "enc.fit(df[catCols])\n",
    "\n",
    "encTarget = LabelBinarizer()\n",
    "encTarget.fit(df['y'].to_numpy().reshape(-1, 1)) # The reshape is needed with a Series"
   ]
  },
  {
   "cell_type": "markdown",
   "id": "functioning-playing",
   "metadata": {},
   "source": [
    "#### Setup the Pipeline"
   ]
  },
  {
   "cell_type": "code",
   "execution_count": 437,
   "id": "musical-dancing",
   "metadata": {},
   "outputs": [],
   "source": [
    "pipeNumeric = Pipeline([('normalizeNum', MinMaxScaler())])\n",
    "pipeCategoric = Pipeline([('encodeCat', OneHotEncoder(handle_unknown='ignore'))])\n",
    "\n",
    "fullPipe = ColumnTransformer([\n",
    "    (\"cont\", pipeNumeric, numericCols),\n",
    "    (\"disc\", pipeCategoric, catCols)],\n",
    "    remainder = 'passthrough')\n",
    "\n",
    "inputDF = df.drop(columns=['y'])\n",
    "#targetDF = encTarget.transform(df['y']) # This wasn't really needed, the models can handled label data.\n",
    "targetDF = df['y']\n",
    "\n",
    "dataModelReady = fullPipe.fit_transform(inputDF)"
   ]
  },
  {
   "cell_type": "markdown",
   "id": "promotional-highlight",
   "metadata": {},
   "source": [
    "#### How to do the cross-validation split:"
   ]
  },
  {
   "cell_type": "code",
   "execution_count": 438,
   "id": "aerial-national",
   "metadata": {},
   "outputs": [
    {
     "data": {
      "text/plain": [
       "5"
      ]
     },
     "execution_count": 438,
     "metadata": {},
     "output_type": "execute_result"
    }
   ],
   "source": [
    "from sklearn.model_selection import StratifiedKFold\n",
    "from sklearn.model_selection import KFold\n",
    "#splits = StratifiedKFold(n_splits=5, shuffle = True)\n",
    "splits = KFold(n_splits=5, shuffle = True, random_state = 42)\n",
    "splits.get_n_splits(inputDF, targetDF)"
   ]
  },
  {
   "cell_type": "code",
   "execution_count": 439,
   "id": "accompanied-dispute",
   "metadata": {},
   "outputs": [],
   "source": [
    "scoringList = ['balanced_accuracy', 'roc_auc']"
   ]
  },
  {
   "cell_type": "markdown",
   "id": "killing-training",
   "metadata": {},
   "source": [
    "### Model Training and Scoring"
   ]
  },
  {
   "cell_type": "markdown",
   "id": "provincial-google",
   "metadata": {},
   "source": [
    "**KNN**"
   ]
  },
  {
   "cell_type": "code",
   "execution_count": 440,
   "id": "growing-conservation",
   "metadata": {},
   "outputs": [
    {
     "name": "stdout",
     "output_type": "stream",
     "text": [
      "KNN classifier score: [0.61575142 0.62666015 0.62785195 0.61963323 0.6238553 ]\n"
     ]
    }
   ],
   "source": [
    "knn = KNeighborsClassifier()\n",
    "fullPipe_KNN = Pipeline([\n",
    "                        ('dataPrep', fullPipe),\n",
    "                        ('model', knn)])\n",
    "\n",
    "scores = cross_val_score(fullPipe_KNN, inputDF, targetDF, scoring = 'balanced_accuracy', cv = splits)\n",
    "print(\"KNN classifier score:\", scores)"
   ]
  },
  {
   "cell_type": "markdown",
   "id": "moved-postage",
   "metadata": {},
   "source": [
    "**SVC**"
   ]
  },
  {
   "cell_type": "code",
   "execution_count": 441,
   "id": "collectible-course",
   "metadata": {},
   "outputs": [
    {
     "name": "stdout",
     "output_type": "stream",
     "text": [
      "SVC classifier score: {'fit_time': array([2.44044614, 1.80517244, 2.17019677, 2.20513034, 1.98272395]), 'score_time': array([0.06283116, 0.09474564, 0.08576894, 0.07577038, 0.0857451 ]), 'test_balanced_accuracy': array([0.73694016, 0.75229947, 0.74051621, 0.7251179 , 0.74472643]), 'test_roc_auc': array([0.78270775, 0.80212265, 0.78976687, 0.77453386, 0.79016604])}\n"
     ]
    }
   ],
   "source": [
    "svc = LinearSVC(class_weight = 'balanced')\n",
    "fullPipe_SVC = Pipeline([\n",
    "                        ('dataPrep', fullPipe),\n",
    "                        ('model', svc)])\n",
    "\n",
    "#scores = cross_val_score(fullPipe_SVC, inputDF, targetDF, scoring = 'balanced_accuracy', cv = splits)\n",
    "scores = cross_validate(fullPipe_SVC, inputDF, targetDF, scoring = scoringList, cv = splits)\n",
    "print(\"SVC classifier score:\", scores)"
   ]
  },
  {
   "cell_type": "code",
   "execution_count": 442,
   "id": "forced-aquarium",
   "metadata": {},
   "outputs": [
    {
     "name": "stderr",
     "output_type": "stream",
     "text": [
      "C:\\Users\\wadeb\\Anaconda3\\lib\\site-packages\\sklearn\\base.py:197: FutureWarning: From version 0.24, get_params will raise an AttributeError if a parameter cannot be retrieved as an instance attribute. Previously it would return None.\n",
      "  FutureWarning)\n"
     ]
    },
    {
     "data": {
      "image/png": "[encoded data removed]",
      "text/plain": [
       "<Figure size 1152x360 with 4 Axes>"
      ]
     },
     "metadata": {
      "needs_background": "light"
     },
     "output_type": "display_data"
    }
   ],
   "source": [
    "evaluate_model(fullPipe_SVC, [\"no\", \"yes\"], inputDF, targetDF.map({'no':0, 'yes':1}))"
   ]
  },
  {
   "cell_type": "markdown",
   "id": "three-boxing",
   "metadata": {},
   "source": [
    "**RFC**"
   ]
  },
  {
   "cell_type": "code",
   "execution_count": 443,
   "id": "green-mainland",
   "metadata": {},
   "outputs": [
    {
     "name": "stdout",
     "output_type": "stream",
     "text": [
      "RFC classifier score: {'fit_time': array([1.41521382, 1.36833787, 1.36235619, 1.39424086, 1.33941722]), 'score_time': array([0.25834322, 0.21143436, 0.21345544, 0.23337698, 0.21146202]), 'test_balanced_accuracy': array([0.74451906, 0.76187368, 0.74278181, 0.73264701, 0.7473152 ]), 'test_roc_auc': array([0.78224633, 0.79710586, 0.78166177, 0.77272376, 0.78797119])}\n"
     ]
    }
   ],
   "source": [
    "rfc = RandomForestClassifier(class_weight = 'balanced', min_samples_leaf = 10)\n",
    "fullPipe_RFC = Pipeline([\n",
    "                        ('dataPrep', fullPipe),\n",
    "                        ('model', rfc)])\n",
    "\n",
    "#scores = cross_val_score(fullPipe_SVC, inputDF, targetDF, scoring = 'balanced_accuracy', cv = splits)\n",
    "scores = cross_validate(fullPipe_RFC, inputDF, targetDF, scoring = scoringList, cv = splits)\n",
    "print(\"RFC classifier score:\", scores)"
   ]
  },
  {
   "cell_type": "markdown",
   "id": "acute-botswana",
   "metadata": {},
   "source": [
    "Remember, the `evaluate_model` function generates data by training and predicting on the entire dataset. The results in this data, then, imply that the model may be overtrained. Pruning the trees back a bit might help."
   ]
  },
  {
   "cell_type": "code",
   "execution_count": 444,
   "id": "nervous-amber",
   "metadata": {},
   "outputs": [
    {
     "name": "stderr",
     "output_type": "stream",
     "text": [
      "C:\\Users\\wadeb\\Anaconda3\\lib\\site-packages\\sklearn\\base.py:197: FutureWarning: From version 0.24, get_params will raise an AttributeError if a parameter cannot be retrieved as an instance attribute. Previously it would return None.\n",
      "  FutureWarning)\n"
     ]
    },
    {
     "data": {
      "image/png": "[encoded data removed]",
      "text/plain": [
       "<Figure size 1600x500 with 4 Axes>"
      ]
     },
     "metadata": {},
     "output_type": "display_data"
    }
   ],
   "source": [
    "evaluate_model(fullPipe_RFC, [\"no\", \"yes\"], inputDF, targetDF)"
   ]
  },
  {
   "cell_type": "markdown",
   "id": "cheap-barrel",
   "metadata": {},
   "source": [
    "### Model Scoring with Test Data"
   ]
  },
  {
   "cell_type": "markdown",
   "id": "protective-qualification",
   "metadata": {},
   "source": [
    "#### First of all, create Train and Test partitions"
   ]
  },
  {
   "cell_type": "markdown",
   "id": "polar-shape",
   "metadata": {},
   "source": [
    "**Random Split**"
   ]
  },
  {
   "cell_type": "code",
   "execution_count": 445,
   "id": "liquid-caribbean",
   "metadata": {},
   "outputs": [],
   "source": [
    "X_train, X_test, y_train, y_test = train_test_split(inputDF, targetDF, random_state=42)"
   ]
  },
  {
   "cell_type": "markdown",
   "id": "wired-constitution",
   "metadata": {},
   "source": [
    "**Balanced Split**"
   ]
  },
  {
   "cell_type": "code",
   "execution_count": null,
   "id": "chronic-cause",
   "metadata": {},
   "outputs": [],
   "source": []
  },
  {
   "cell_type": "code",
   "execution_count": 446,
   "id": "latest-notification",
   "metadata": {},
   "outputs": [
    {
     "data": {
      "text/plain": [
       "no     9094\n",
       "yes    1200\n",
       "Name: y, dtype: int64"
      ]
     },
     "execution_count": 446,
     "metadata": {},
     "output_type": "execute_result"
    }
   ],
   "source": [
    "y_test.value_counts()"
   ]
  },
  {
   "cell_type": "code",
   "execution_count": 447,
   "id": "returning-august",
   "metadata": {},
   "outputs": [
    {
     "data": {
      "text/plain": [
       "<sklearn.metrics._plot.confusion_matrix.ConfusionMatrixDisplay at 0x1ac52657d68>"
      ]
     },
     "execution_count": 447,
     "metadata": {},
     "output_type": "execute_result"
    },
    {
     "data": {
      "image/png": "[encoded data removed]",
      "text/plain": [
       "<Figure size 640x480 with 2 Axes>"
      ]
     },
     "metadata": {},
     "output_type": "display_data"
    }
   ],
   "source": [
    "fullPipe_SVC.fit(X_train, y_train)\n",
    "plot_confusion_matrix(fullPipe_SVC, X_test, y_test)"
   ]
  },
  {
   "cell_type": "markdown",
   "id": "wired-republican",
   "metadata": {},
   "source": [
    "**precision_recall_curve** \n",
    "\n",
    "This function takes the array of Y data scores from the specified model, the estimated probabilities (or output of decision function) from the trained model and then returns 3 arrays. The first two are the values for the precision and the recall at specific threshold values. Those threshold values are in the third array. So if we use the first two arrays as Y values and the third as X, we get a nice plot of precision and recall across a range of threshold values.\n",
    "\n",
    "Note that the SVC model supports the `.decision_function` method that returns a 1-D array of values representing confidence scores for each observation. Other models, like RandomForestClassifier, support the `.predict_proba` method that returns a 2-D array representing the probability of each classification for each observation. (actually, that assumes a binary classifier. An *n*-class model would probably return an *n*-D array."
   ]
  },
  {
   "cell_type": "markdown",
   "id": "coordinated-contamination",
   "metadata": {},
   "source": [
    "## Support Vector Classification Evaluation"
   ]
  },
  {
   "cell_type": "code",
   "execution_count": 448,
   "id": "described-generator",
   "metadata": {},
   "outputs": [],
   "source": [
    "model_y_scores = fullPipe_SVC.decision_function(X_test)\n",
    "precisions, recalls, thresholds = precision_recall_curve(y_test, model_y_scores, pos_label='yes')"
   ]
  },
  {
   "cell_type": "code",
   "execution_count": 449,
   "id": "stainless-notice",
   "metadata": {},
   "outputs": [],
   "source": [
    "F1s = calc_F1_vector(precisions, recalls)"
   ]
  },
  {
   "cell_type": "code",
   "execution_count": 450,
   "id": "rental-convenience",
   "metadata": {},
   "outputs": [
    {
     "data": {
      "image/png": "[encoded data removed]",
      "text/plain": [
       "<Figure size 1400x600 with 2 Axes>"
      ]
     },
     "metadata": {},
     "output_type": "display_data"
    }
   ],
   "source": [
    "fig = plt.figure(figsize=(14, 6))\n",
    "plt.subplot(1, 2, 1)\n",
    "plot_precision_recall_vs_threshold(precisions, recalls, F1s, thresholds)\n",
    "plt.subplot(1, 2, 2)\n",
    "plot_precision_vs_recall(precisions, recalls)\n",
    "plt.show()"
   ]
  },
  {
   "cell_type": "code",
   "execution_count": 451,
   "id": "cutting-election",
   "metadata": {},
   "outputs": [
    {
     "name": "stdout",
     "output_type": "stream",
     "text": [
      "Max F1 is  0.4828263002944063 at threshold =  0.1386626917004925\n"
     ]
    }
   ],
   "source": [
    "maxIdx = np.where(F1s==np.amax(F1s))\n",
    "print(\"Max F1 is \", np.amax(F1s), \"at threshold = \", thresholds[maxIdx[0][0]])"
   ]
  },
  {
   "cell_type": "code",
   "execution_count": 452,
   "id": "phantom-powder",
   "metadata": {},
   "outputs": [],
   "source": [
    "idxAry = np.where((thresholds >= -1) & (thresholds <= 3)) #for full scale, use .amin and .amax\n",
    "zoomAry = thresholds[idxAry[0]]\n",
    "predictedCMAry = np.zeros((len(zoomAry), 2, 2), np.int16)\n",
    "idx = 0\n",
    "for threshold in zoomAry:\n",
    "    resultsYN = get_new_predicted(threshold, model_y_scores)    #--- 0.000997781753540039 seconds ---\n",
    "    revPredictCM = confusion_matrix(y_test, resultsYN) #--- 0.030942916870117188 seconds ---\n",
    "    predictedCMAry[idx] = revPredictCM\n",
    "    idx += 1"
   ]
  },
  {
   "cell_type": "code",
   "execution_count": 453,
   "id": "renewable-generator",
   "metadata": {},
   "outputs": [],
   "source": [
    "revenueAry = np.zeros(len(zoomAry), np.int32) # If we expected revenue and cost values to be decimal, this would have to change\n",
    "costAry = np.zeros(len(zoomAry), np.int32)\n",
    "profitAry = np.zeros(len(zoomAry), np.int32)\n",
    "unRevenueAry = np.zeros(len(zoomAry), np.int32)\n",
    "idx = 0\n",
    "for cm in predictedCMAry:\n",
    "    revenueAry[idx], costAry[idx], profitAry[idx], unRevenueAry[idx] = total_revenue(cm)\n",
    "    idx += 1"
   ]
  },
  {
   "cell_type": "code",
   "execution_count": 454,
   "id": "precious-ozone",
   "metadata": {},
   "outputs": [
    {
     "name": "stdout",
     "output_type": "stream",
     "text": [
      "Threshold min:max:  -0.5810057082033158 1.2419306762046693\n"
     ]
    },
    {
     "data": {
      "image/png": "[encoded data removed]",
      "text/plain": [
       "<Figure size 640x480 with 1 Axes>"
      ]
     },
     "metadata": {},
     "output_type": "display_data"
    }
   ],
   "source": [
    "plot_rev_cost_vs_threshold(revenueAry, costAry, profitAry, unRevenueAry, zoomAry)\n",
    "plt.show()"
   ]
  },
  {
   "cell_type": "code",
   "execution_count": 455,
   "id": "geological-latin",
   "metadata": {},
   "outputs": [
    {
     "name": "stdout",
     "output_type": "stream",
     "text": [
      "Max profit is  9070 at threshold =  0.5760506285845773\n"
     ]
    }
   ],
   "source": [
    "maxIdx = np.where(profitAry==profitAry.max())\n",
    "print(\"Max profit is \", profitAry.max(), \"at threshold = \", thresholds[maxIdx[0]][0])"
   ]
  },
  {
   "cell_type": "markdown",
   "id": "involved-archive",
   "metadata": {},
   "source": [
    "## Random Forest Classification Evaluation"
   ]
  },
  {
   "cell_type": "code",
   "execution_count": 456,
   "id": "mineral-optics",
   "metadata": {},
   "outputs": [
    {
     "data": {
      "text/plain": [
       "<sklearn.metrics._plot.confusion_matrix.ConfusionMatrixDisplay at 0x1ac53668518>"
      ]
     },
     "execution_count": 456,
     "metadata": {},
     "output_type": "execute_result"
    },
    {
     "data": {
      "image/png": "[encoded data removed]",
      "text/plain": [
       "<Figure size 640x480 with 2 Axes>"
      ]
     },
     "metadata": {},
     "output_type": "display_data"
    }
   ],
   "source": [
    "fullPipe_RFC.fit(X_train, y_train)\n",
    "plot_confusion_matrix(fullPipe_RFC, X_test, y_test)"
   ]
  },
  {
   "cell_type": "code",
   "execution_count": 457,
   "id": "patent-rebel",
   "metadata": {},
   "outputs": [],
   "source": [
    "model_y_scores = fullPipe_RFC.predict_proba(X_test)\n",
    "precisions, recalls, thresholds = precision_recall_curve(y_test, model_y_scores[:,1], pos_label='yes')\n",
    "F1s = calc_F1_vector(precisions, recalls)"
   ]
  },
  {
   "cell_type": "code",
   "execution_count": 458,
   "id": "growing-receipt",
   "metadata": {},
   "outputs": [],
   "source": [
    "maxIdx = np.where(F1s==np.amax(F1s))"
   ]
  },
  {
   "cell_type": "code",
   "execution_count": 459,
   "id": "patient-daisy",
   "metadata": {},
   "outputs": [
    {
     "data": {
      "image/png": "[encoded data removed]",
      "text/plain": [
       "<Figure size 1400x600 with 2 Axes>"
      ]
     },
     "metadata": {},
     "output_type": "display_data"
    }
   ],
   "source": [
    "fig = plt.figure(figsize=(14, 6))\n",
    "plt.subplot(1, 2, 1)\n",
    "plot_precision_recall_vs_threshold(precisions, recalls, F1s, thresholds)\n",
    "plt.subplot(1, 2, 2)\n",
    "plot_precision_vs_recall(precisions, recalls)\n",
    "plt.show()"
   ]
  },
  {
   "cell_type": "markdown",
   "id": "ordinary-separate",
   "metadata": {},
   "source": [
    "#### Threshold for Maximum F1\n",
    "While we may be overfitting, the max F1 value, shown below, might be a better threshold than the default 0.5"
   ]
  },
  {
   "cell_type": "code",
   "execution_count": 460,
   "id": "thrown-potato",
   "metadata": {},
   "outputs": [
    {
     "name": "stdout",
     "output_type": "stream",
     "text": [
      "Max F1 is  0.500185253797703 at threshold =  0.6333580918904158\n"
     ]
    }
   ],
   "source": [
    "maxIdx = np.where(F1s==np.amax(F1s))\n",
    "print(\"Max F1 is \", np.amax(F1s), \"at threshold = \", thresholds[maxIdx[0][0]])"
   ]
  },
  {
   "cell_type": "markdown",
   "id": "engaged-venezuela",
   "metadata": {},
   "source": [
    "`model_y_scores` (which are actually the return of `.predict_proba(X)`) might look something like:\n",
    "```\n",
    "array([[0.11682319, 0.88317681],\n",
    "       [0.93513411, 0.06486589],\n",
    "       [0.1940993 , 0.8059007 ],\n",
    "       ...\n",
    "```\n",
    "Remember, those are probabilities of the False and True classes, which in this case map to 'no' and 'yes' in the dataset 'y' column. Threshold, then, is the probability number that must be exceeded by the model score for a given observation for that observation to predict a 'yes'. So if threshold is 0, everything is 'yes'. If threshold is 1, nothing is 'yes'."
   ]
  },
  {
   "cell_type": "code",
   "execution_count": 461,
   "id": "ready-leader",
   "metadata": {},
   "outputs": [],
   "source": [
    "test = model_y_scores[:,1] > maxF1\n",
    "defaultResults = fullPipe_RFC.predict(X_test)\n",
    "TF_to_YesNoMap = {True:'yes', False:'no'}\n",
    "testYN = np.vectorize(TF_to_YesNoMap.get)(test)"
   ]
  },
  {
   "cell_type": "markdown",
   "id": "honey-bankruptcy",
   "metadata": {},
   "source": [
    "## Plot Revenue and Cost Data\n",
    "\n",
    "This takes 3-4 minutes to execute across all thresholds. The calculations can be focused on a tighter range for shorter execution time. "
   ]
  },
  {
   "cell_type": "code",
   "execution_count": 464,
   "id": "dressed-present",
   "metadata": {},
   "outputs": [],
   "source": [
    "#idxAry = np.where((thresholds >= .45) & (thresholds <= .75)) # zoomed, .45 to .75\n",
    "idxAry = np.where((thresholds >= 0) & (thresholds <= 1)) #full scale\n",
    "zoomAry = thresholds[idxAry[0]]\n",
    "predictedCMAry = np.zeros((len(zoomAry), 2, 2), np.int16)\n",
    "idx = 0\n",
    "for threshold in zoomAry:\n",
    "    #RFC returns an array of arrays, each with probabilities for each class. We only want to use the positive case probability\n",
    "    resultsYN = get_new_predicted(threshold, model_y_scores[:,1])    #--- 0.000997781753540039 seconds ---\n",
    "    revPredictCM = confusion_matrix(y_test, resultsYN) #--- 0.030942916870117188 seconds ---\n",
    "    predictedCMAry[idx] = revPredictCM\n",
    "    idx += 1"
   ]
  },
  {
   "cell_type": "code",
   "execution_count": 465,
   "id": "considerable-opposition",
   "metadata": {},
   "outputs": [],
   "source": [
    "revenueAry = np.zeros(len(zoomAry), np.int32) # If we expected revenue and cost values to be decimal, this would have to change\n",
    "costAry = np.zeros(len(zoomAry), np.int32)\n",
    "profitAry = np.zeros(len(zoomAry), np.int32)\n",
    "unRevenueAry = np.zeros(len(zoomAry), np.int32)\n",
    "idx = 0\n",
    "for cm in predictedCMAry:\n",
    "    revenueAry[idx], costAry[idx], profitAry[idx], unRevenueAry[idx] = total_revenue(cm)\n",
    "    idx += 1"
   ]
  },
  {
   "cell_type": "code",
   "execution_count": 466,
   "id": "pursuant-lawrence",
   "metadata": {},
   "outputs": [
    {
     "name": "stdout",
     "output_type": "stream",
     "text": [
      "Threshold min:max:  0.006135096759071388 0.9897999257372883\n"
     ]
    },
    {
     "data": {
      "image/png": "[encoded data removed]",
      "text/plain": [
       "<Figure size 640x480 with 1 Axes>"
      ]
     },
     "metadata": {},
     "output_type": "display_data"
    }
   ],
   "source": [
    "plot_rev_cost_vs_threshold(revenueAry, costAry, profitAry, unRevenueAry, zoomAry)\n",
    "plt.show()"
   ]
  },
  {
   "cell_type": "code",
   "execution_count": 467,
   "id": "diverse-mayor",
   "metadata": {},
   "outputs": [
    {
     "name": "stdout",
     "output_type": "stream",
     "text": [
      "Max profit is  11100 at threshold =  0.8073518368604211\n"
     ]
    }
   ],
   "source": [
    "maxIdx = np.where(profitAry==profitAry.max())\n",
    "print(\"Max profit is \", profitAry.max(), \"at threshold = \", thresholds[maxIdx[0]][0])"
   ]
  },
  {
   "cell_type": "markdown",
   "id": "quantitative-cross",
   "metadata": {},
   "source": [
    "# Conclusion\n",
    "\n",
    "The intention of these models is to make marketing campaigns more efficient. The baseline that they would be compared to would be one where the 10,200 customers in the test data sample were ALL called, because without data, why not just call everybody and maximize revenue? The problem with that strategy is that you'll also be maximizing cost.\n",
    "\n",
    "In the test case, the breakdown of the number of customers that said yes vs no to the campaign was: \n",
    ">no     9094\\\n",
    ">yes    1200\n",
    "\n",
    "With the ability to predict which customers will respond positively to the campaign, cost can be reduced, increasing profit and reducing the resources required to undertake this marketing effort.\n",
    "\n",
    "So assuming the same hypothetical values of \\\\$80 in revenue per 'yes' result and \\\\$30 per call:\\\n",
    "Revenue = \\\\$80 x 1200 = \\\\$96,000\\\n",
    "Cost = \\\\$30 x (9094 + 1200) = \\\\$308,820 \n",
    "\n",
    "or, a **net loss of \\\\$212,820**\n",
    "\n",
    "Regardless of which of the 2 models is used to predict successful calls, a **profit of \\\\$9,000 to \\\\$11,000** could be realized."
   ]
  },
  {
   "cell_type": "markdown",
   "id": "transparent-istanbul",
   "metadata": {},
   "source": [
    "### Misc Functions"
   ]
  },
  {
   "cell_type": "code",
   "execution_count": 361,
   "id": "minimal-million",
   "metadata": {},
   "outputs": [],
   "source": [
    "def plot_precision_recall_vs_threshold(precisions, recalls, F1s, thresholds):\n",
    "    plt.plot(thresholds, precisions[:-1], \"b--\", label=\"Precision\", linewidth=2)\n",
    "    plt.plot(thresholds, recalls[:-1], \"g-\", label=\"Recall\", linewidth=2)\n",
    "    plt.plot(thresholds, F1s[:-1], \"m-\", label=\"F1\", linewidth=2)\n",
    "    plt.legend(loc=\"lower right\", fontsize=12) # Not shown in the book\n",
    "    plt.xlabel(\"Threshold\", fontsize=16)        \n",
    "    plt.grid(True)                              \n",
    "    plt.axis([thresholds.min(), thresholds.max(), 0, 1])             "
   ]
  },
  {
   "cell_type": "code",
   "execution_count": 383,
   "id": "comfortable-observation",
   "metadata": {},
   "outputs": [],
   "source": [
    "def plot_rev_cost_vs_threshold(revenue, cost, profit, unRevenue, thresholds):\n",
    "    plt.plot(thresholds, revenue, \"b-\", label=\"Revenue\", linewidth=2)\n",
    "    plt.plot(thresholds, cost, \"m--\", label=\"Cost\", linewidth=2)\n",
    "    plt.plot(thresholds, profit, \"b-.\", label=\"Profit\", linewidth=2)\n",
    "    plt.plot(thresholds, unRevenue, \"m:\", label=\"Unrealized Rev.\", linewidth=2)\n",
    "    plt.legend(loc=\"center left\", fontsize=12) # Not shown in the book\n",
    "    plt.xlabel(\"Threshold\", fontsize=16)        \n",
    "    plt.grid(True)     \n",
    "    print(\"Threshold min:max: \", thresholds.min(), thresholds.max())\n",
    "    plt.axis([thresholds.min(), thresholds.max(), 0, revenue.max()*1.05])"
   ]
  },
  {
   "cell_type": "code",
   "execution_count": 357,
   "id": "sustained-european",
   "metadata": {},
   "outputs": [],
   "source": [
    "def calc_F1_scalar(precision, recall):\n",
    "    if (precision == 0) & (recall == 0):\n",
    "        return 0 # This is needed to prevent a device by 0 error in cases where precision and recall are both at 0\n",
    "    F1 = 2 * (precision * recall) / (precision + recall)\n",
    "    return F1\n",
    "calc_F1_vector = np.vectorize(calc_F1_scalar)"
   ]
  },
  {
   "cell_type": "code",
   "execution_count": 160,
   "id": "governing-institution",
   "metadata": {},
   "outputs": [],
   "source": [
    "def plot_precision_vs_recall(precisions, recalls):\n",
    "    plt.plot(recalls[:-1], precisions[:-1], \"b--\", linewidth=2)\n",
    "    plt.xlabel(\"Recall\", fontsize=12)\n",
    "    plt.ylabel(\"Precision\", fontsize=12)\n",
    "    plt.grid(True)\n",
    "    plt.axis([0, 1, 0, 1])"
   ]
  },
  {
   "cell_type": "code",
   "execution_count": 283,
   "id": "italian-claim",
   "metadata": {},
   "outputs": [],
   "source": [
    "from matplotlib import pyplot as plt\n",
    "import matplotlib\n",
    "#matplotlib.style.use('ggplot')\n",
    "from sklearn.metrics import roc_auc_score, roc_curve, auc, classification_report\n",
    "from sklearn.metrics import f1_score, precision_score, recall_score\n",
    "from sklearn.metrics import mean_squared_error, cohen_kappa_score, make_scorer\n",
    "from sklearn.metrics import confusion_matrix, accuracy_score, average_precision_score\n",
    "from sklearn.metrics import precision_recall_curve, SCORERS\n",
    "from sklearn.model_selection import learning_curve\n",
    "\n",
    "%matplotlib inline\n",
    "\n",
    "mplUpdates = {'font.size':14.0,\n",
    "              'axes.titlesize':'large',\n",
    "              'axes.titleweight':'medium', \n",
    "              'axes.labelsize':'medium',\n",
    "              'xtick.labelsize':'medium',\n",
    "              'ytick.labelsize':'medium',\n",
    "              'legend.fontsize':'small',\n",
    "              'legend.title_fontsize': None}\n",
    "\n",
    "def evaluate_model(model, class_labels, XinDF, yinDF):\n",
    "    from yellowbrick.classifier import ROCAUC\n",
    "    from yellowbrick.classifier import ConfusionMatrix\n",
    "    from yellowbrick.classifier import ClassificationReport\n",
    "    #yellowbrick.style.rcmod.set_aesthetic(palette='yellowbrick', font='sans-serif', font_scale=1.2, color_codes=True, rc=None)\n",
    "    \n",
    "    fig, axes = plt.subplots(nrows=1, ncols=3, figsize=(16,5))\n",
    "    \n",
    "    model.fit(XinDF, yinDF)\n",
    "    predictedDF = model.predict(XinDF)\n",
    "    matplotlib.rc_context(rc=mplUpdates)\n",
    "    \n",
    "    # Some ROC settings requirements vary based on model type, so get that\n",
    "    # sorted here.\n",
    "    if 'SVC' in str(type(model.steps[1][1])):\n",
    "        roc_per_class_Value = False\n",
    "        rocBinaryValue = False\n",
    "    if 'Forest' in str(type(model.steps[1][1])):\n",
    "        roc_per_class_Value = True\n",
    "        rocBinaryValue = False\n",
    "        \n",
    "    visualgrid = [\n",
    "        ROCAUC(model, classes=class_labels, \n",
    "               macro=False, micro=False, per_class=roc_per_class_Value, binary = rocBinaryValue,\n",
    "               ax=axes[0]),\n",
    "        ClassificationReport(model, \n",
    "                             classes=class_labels,\n",
    "                             cmap=\"Blues\", ax=axes[1]),\n",
    "        ConfusionMatrix(model, classes=class_labels, percent=True,\n",
    "                        cmap=\"Blues\", ax=axes[2])\n",
    "    ]\n",
    "    \n",
    "    for viz in visualgrid:\n",
    "        viz.fit(XinDF, yinDF)\n",
    "        viz.score(XinDF, yinDF)\n",
    "        viz.finalize()\n",
    "\n",
    "    plt.show()\n",
    "    matplotlib.rcdefaults()"
   ]
  },
  {
   "cell_type": "code",
   "execution_count": 299,
   "id": "placed-philadelphia",
   "metadata": {},
   "outputs": [],
   "source": [
    "'''\n",
    "IMPORTANT!\n",
    "When looking at the raw ndarray returned by the confusion_matrix function, TN and TP are in the upper left and lower right corners \n",
    "as they normally are in visualizations. However, FN and FP are transposed. \n",
    "Refer to https://scikit-learn.org/stable/modules/generated/sklearn.metrics.confusion_matrix.html#sklearn.metrics.confusion_matrix\n",
    " \n",
    "array([[7971,  461],\n",
    "       [   0, 1862]], dtype=int64)\n",
    "'''\n",
    "def total_revenue(confMatrixAry):\n",
    "    rev_per = gl_rev_per_encounter\n",
    "    cost_per = gl_cost_per_encounter\n",
    "    TN = confMatrixAry[0,0]\n",
    "    FP = confMatrixAry[0,1]\n",
    "    FN = confMatrixAry[1,0]\n",
    "    TP = confMatrixAry[1,1]\n",
    "    #print(TN, FN)\n",
    "    #print(FP, TP)\n",
    "    revenue = TP*rev_per\n",
    "    cost = TP*cost_per + FP*cost_per\n",
    "    profit = revenue - cost\n",
    "    unRevenue = FN*rev_per\n",
    "    return revenue, cost, profit, unRevenue\n"
   ]
  },
  {
   "cell_type": "code",
   "execution_count": 376,
   "id": "latin-customs",
   "metadata": {},
   "outputs": [],
   "source": [
    "def get_new_predicted(threshold, y_scores):\n",
    "    adjusted = y_scores > threshold\n",
    "    TF_to_YesNoMap = {True:'yes', False:'no'}\n",
    "    adjustedYN = np.vectorize(TF_to_YesNoMap.get)(adjusted)\n",
    "    return adjustedYN"
   ]
  }
 ],
 "metadata": {
  "kernelspec": {
   "display_name": "Python 3",
   "language": "python",
   "name": "python3"
  },
  "language_info": {
   "codemirror_mode": {
    "name": "ipython",
    "version": 3
   },
   "file_extension": ".py",
   "mimetype": "text/x-python",
   "name": "python",
   "nbconvert_exporter": "python",
   "pygments_lexer": "ipython3",
   "version": "3.7.1"
  }
 },
 "nbformat": 4,
 "nbformat_minor": 5
}
